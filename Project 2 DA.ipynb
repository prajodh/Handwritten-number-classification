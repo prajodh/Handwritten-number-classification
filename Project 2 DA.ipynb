{
 "cells": [
  {
   "cell_type": "code",
   "execution_count": 2,
   "id": "15f6aab0",
   "metadata": {},
   "outputs": [],
   "source": [
    "import numpy as np\n",
    "import pandas as pd\n",
    "import tensorflow as tf\n",
    "import matplotlib.pyplot as plt"
   ]
  },
  {
   "cell_type": "code",
   "execution_count": 3,
   "id": "c34a9bd0",
   "metadata": {},
   "outputs": [],
   "source": [
    "from sklearn import datasets\n",
    "digits = datasets.load_digits()\n"
   ]
  },
  {
   "cell_type": "code",
   "execution_count": 4,
   "id": "509cd08a",
   "metadata": {},
   "outputs": [
    {
     "data": {
      "text/plain": [
       "{'data': array([[ 0.,  0.,  5., ...,  0.,  0.,  0.],\n",
       "        [ 0.,  0.,  0., ..., 10.,  0.,  0.],\n",
       "        [ 0.,  0.,  0., ..., 16.,  9.,  0.],\n",
       "        ...,\n",
       "        [ 0.,  0.,  1., ...,  6.,  0.,  0.],\n",
       "        [ 0.,  0.,  2., ..., 12.,  0.,  0.],\n",
       "        [ 0.,  0., 10., ..., 12.,  1.,  0.]]),\n",
       " 'target': array([0, 1, 2, ..., 8, 9, 8]),\n",
       " 'frame': None,\n",
       " 'feature_names': ['pixel_0_0',\n",
       "  'pixel_0_1',\n",
       "  'pixel_0_2',\n",
       "  'pixel_0_3',\n",
       "  'pixel_0_4',\n",
       "  'pixel_0_5',\n",
       "  'pixel_0_6',\n",
       "  'pixel_0_7',\n",
       "  'pixel_1_0',\n",
       "  'pixel_1_1',\n",
       "  'pixel_1_2',\n",
       "  'pixel_1_3',\n",
       "  'pixel_1_4',\n",
       "  'pixel_1_5',\n",
       "  'pixel_1_6',\n",
       "  'pixel_1_7',\n",
       "  'pixel_2_0',\n",
       "  'pixel_2_1',\n",
       "  'pixel_2_2',\n",
       "  'pixel_2_3',\n",
       "  'pixel_2_4',\n",
       "  'pixel_2_5',\n",
       "  'pixel_2_6',\n",
       "  'pixel_2_7',\n",
       "  'pixel_3_0',\n",
       "  'pixel_3_1',\n",
       "  'pixel_3_2',\n",
       "  'pixel_3_3',\n",
       "  'pixel_3_4',\n",
       "  'pixel_3_5',\n",
       "  'pixel_3_6',\n",
       "  'pixel_3_7',\n",
       "  'pixel_4_0',\n",
       "  'pixel_4_1',\n",
       "  'pixel_4_2',\n",
       "  'pixel_4_3',\n",
       "  'pixel_4_4',\n",
       "  'pixel_4_5',\n",
       "  'pixel_4_6',\n",
       "  'pixel_4_7',\n",
       "  'pixel_5_0',\n",
       "  'pixel_5_1',\n",
       "  'pixel_5_2',\n",
       "  'pixel_5_3',\n",
       "  'pixel_5_4',\n",
       "  'pixel_5_5',\n",
       "  'pixel_5_6',\n",
       "  'pixel_5_7',\n",
       "  'pixel_6_0',\n",
       "  'pixel_6_1',\n",
       "  'pixel_6_2',\n",
       "  'pixel_6_3',\n",
       "  'pixel_6_4',\n",
       "  'pixel_6_5',\n",
       "  'pixel_6_6',\n",
       "  'pixel_6_7',\n",
       "  'pixel_7_0',\n",
       "  'pixel_7_1',\n",
       "  'pixel_7_2',\n",
       "  'pixel_7_3',\n",
       "  'pixel_7_4',\n",
       "  'pixel_7_5',\n",
       "  'pixel_7_6',\n",
       "  'pixel_7_7'],\n",
       " 'target_names': array([0, 1, 2, 3, 4, 5, 6, 7, 8, 9]),\n",
       " 'images': array([[[ 0.,  0.,  5., ...,  1.,  0.,  0.],\n",
       "         [ 0.,  0., 13., ..., 15.,  5.,  0.],\n",
       "         [ 0.,  3., 15., ..., 11.,  8.,  0.],\n",
       "         ...,\n",
       "         [ 0.,  4., 11., ..., 12.,  7.,  0.],\n",
       "         [ 0.,  2., 14., ..., 12.,  0.,  0.],\n",
       "         [ 0.,  0.,  6., ...,  0.,  0.,  0.]],\n",
       " \n",
       "        [[ 0.,  0.,  0., ...,  5.,  0.,  0.],\n",
       "         [ 0.,  0.,  0., ...,  9.,  0.,  0.],\n",
       "         [ 0.,  0.,  3., ...,  6.,  0.,  0.],\n",
       "         ...,\n",
       "         [ 0.,  0.,  1., ...,  6.,  0.,  0.],\n",
       "         [ 0.,  0.,  1., ...,  6.,  0.,  0.],\n",
       "         [ 0.,  0.,  0., ..., 10.,  0.,  0.]],\n",
       " \n",
       "        [[ 0.,  0.,  0., ..., 12.,  0.,  0.],\n",
       "         [ 0.,  0.,  3., ..., 14.,  0.,  0.],\n",
       "         [ 0.,  0.,  8., ..., 16.,  0.,  0.],\n",
       "         ...,\n",
       "         [ 0.,  9., 16., ...,  0.,  0.,  0.],\n",
       "         [ 0.,  3., 13., ..., 11.,  5.,  0.],\n",
       "         [ 0.,  0.,  0., ..., 16.,  9.,  0.]],\n",
       " \n",
       "        ...,\n",
       " \n",
       "        [[ 0.,  0.,  1., ...,  1.,  0.,  0.],\n",
       "         [ 0.,  0., 13., ...,  2.,  1.,  0.],\n",
       "         [ 0.,  0., 16., ..., 16.,  5.,  0.],\n",
       "         ...,\n",
       "         [ 0.,  0., 16., ..., 15.,  0.,  0.],\n",
       "         [ 0.,  0., 15., ..., 16.,  0.,  0.],\n",
       "         [ 0.,  0.,  2., ...,  6.,  0.,  0.]],\n",
       " \n",
       "        [[ 0.,  0.,  2., ...,  0.,  0.,  0.],\n",
       "         [ 0.,  0., 14., ..., 15.,  1.,  0.],\n",
       "         [ 0.,  4., 16., ..., 16.,  7.,  0.],\n",
       "         ...,\n",
       "         [ 0.,  0.,  0., ..., 16.,  2.,  0.],\n",
       "         [ 0.,  0.,  4., ..., 16.,  2.,  0.],\n",
       "         [ 0.,  0.,  5., ..., 12.,  0.,  0.]],\n",
       " \n",
       "        [[ 0.,  0., 10., ...,  1.,  0.,  0.],\n",
       "         [ 0.,  2., 16., ...,  1.,  0.,  0.],\n",
       "         [ 0.,  0., 15., ..., 15.,  0.,  0.],\n",
       "         ...,\n",
       "         [ 0.,  4., 16., ..., 16.,  6.,  0.],\n",
       "         [ 0.,  8., 16., ..., 16.,  8.,  0.],\n",
       "         [ 0.,  1.,  8., ..., 12.,  1.,  0.]]]),\n",
       " 'DESCR': \".. _digits_dataset:\\n\\nOptical recognition of handwritten digits dataset\\n--------------------------------------------------\\n\\n**Data Set Characteristics:**\\n\\n    :Number of Instances: 1797\\n    :Number of Attributes: 64\\n    :Attribute Information: 8x8 image of integer pixels in the range 0..16.\\n    :Missing Attribute Values: None\\n    :Creator: E. Alpaydin (alpaydin '@' boun.edu.tr)\\n    :Date: July; 1998\\n\\nThis is a copy of the test set of the UCI ML hand-written digits datasets\\nhttps://archive.ics.uci.edu/ml/datasets/Optical+Recognition+of+Handwritten+Digits\\n\\nThe data set contains images of hand-written digits: 10 classes where\\neach class refers to a digit.\\n\\nPreprocessing programs made available by NIST were used to extract\\nnormalized bitmaps of handwritten digits from a preprinted form. From a\\ntotal of 43 people, 30 contributed to the training set and different 13\\nto the test set. 32x32 bitmaps are divided into nonoverlapping blocks of\\n4x4 and the number of on pixels are counted in each block. This generates\\nan input matrix of 8x8 where each element is an integer in the range\\n0..16. This reduces dimensionality and gives invariance to small\\ndistortions.\\n\\nFor info on NIST preprocessing routines, see M. D. Garris, J. L. Blue, G.\\nT. Candela, D. L. Dimmick, J. Geist, P. J. Grother, S. A. Janet, and C.\\nL. Wilson, NIST Form-Based Handprint Recognition System, NISTIR 5469,\\n1994.\\n\\n.. topic:: References\\n\\n  - C. Kaynak (1995) Methods of Combining Multiple Classifiers and Their\\n    Applications to Handwritten Digit Recognition, MSc Thesis, Institute of\\n    Graduate Studies in Science and Engineering, Bogazici University.\\n  - E. Alpaydin, C. Kaynak (1998) Cascading Classifiers, Kybernetika.\\n  - Ken Tang and Ponnuthurai N. Suganthan and Xi Yao and A. Kai Qin.\\n    Linear dimensionalityreduction using relevance weighted LDA. School of\\n    Electrical and Electronic Engineering Nanyang Technological University.\\n    2005.\\n  - Claudio Gentile. A New Approximate Maximal Margin Classification\\n    Algorithm. NIPS. 2000.\\n\"}"
      ]
     },
     "execution_count": 4,
     "metadata": {},
     "output_type": "execute_result"
    }
   ],
   "source": [
    "digits"
   ]
  },
  {
   "cell_type": "code",
   "execution_count": 7,
   "id": "0f24a4b9",
   "metadata": {},
   "outputs": [
    {
     "data": {
      "text/plain": [
       "(1797, 64)"
      ]
     },
     "execution_count": 7,
     "metadata": {},
     "output_type": "execute_result"
    }
   ],
   "source": [
    "digits.data.shape"
   ]
  },
  {
   "cell_type": "code",
   "execution_count": 18,
   "id": "12af6c83",
   "metadata": {},
   "outputs": [],
   "source": [
    "def plot(index):\n",
    "    plt.figure(figsize=(10,7)) \n",
    "    plt.imshow(digits.images[index],cmap=\"gray\")"
   ]
  },
  {
   "cell_type": "code",
   "execution_count": 21,
   "id": "6ae8295d",
   "metadata": {},
   "outputs": [
    {
     "data": {
      "image/png": "[encoded data removed]",
      "text/plain": [
       "<Figure size 720x504 with 1 Axes>"
      ]
     },
     "metadata": {
      "needs_background": "light"
     },
     "output_type": "display_data"
    }
   ],
   "source": [
    "plot(8)"
   ]
  },
  {
   "cell_type": "code",
   "execution_count": 46,
   "id": "b313ad83",
   "metadata": {},
   "outputs": [],
   "source": [
    "X_data=digits.images"
   ]
  },
  {
   "cell_type": "code",
   "execution_count": 47,
   "id": "e2cf9cce",
   "metadata": {},
   "outputs": [],
   "source": [
    "y_data=digits.target"
   ]
  },
  {
   "cell_type": "code",
   "execution_count": 48,
   "id": "6790d47a",
   "metadata": {},
   "outputs": [
    {
     "data": {
      "text/plain": [
       "(array([[[ 0.,  0.,  5., ...,  1.,  0.,  0.],\n",
       "         [ 0.,  0., 13., ..., 15.,  5.,  0.],\n",
       "         [ 0.,  3., 15., ..., 11.,  8.,  0.],\n",
       "         ...,\n",
       "         [ 0.,  4., 11., ..., 12.,  7.,  0.],\n",
       "         [ 0.,  2., 14., ..., 12.,  0.,  0.],\n",
       "         [ 0.,  0.,  6., ...,  0.,  0.,  0.]],\n",
       " \n",
       "        [[ 0.,  0.,  0., ...,  5.,  0.,  0.],\n",
       "         [ 0.,  0.,  0., ...,  9.,  0.,  0.],\n",
       "         [ 0.,  0.,  3., ...,  6.,  0.,  0.],\n",
       "         ...,\n",
       "         [ 0.,  0.,  1., ...,  6.,  0.,  0.],\n",
       "         [ 0.,  0.,  1., ...,  6.,  0.,  0.],\n",
       "         [ 0.,  0.,  0., ..., 10.,  0.,  0.]],\n",
       " \n",
       "        [[ 0.,  0.,  0., ..., 12.,  0.,  0.],\n",
       "         [ 0.,  0.,  3., ..., 14.,  0.,  0.],\n",
       "         [ 0.,  0.,  8., ..., 16.,  0.,  0.],\n",
       "         ...,\n",
       "         [ 0.,  9., 16., ...,  0.,  0.,  0.],\n",
       "         [ 0.,  3., 13., ..., 11.,  5.,  0.],\n",
       "         [ 0.,  0.,  0., ..., 16.,  9.,  0.]],\n",
       " \n",
       "        ...,\n",
       " \n",
       "        [[ 0.,  0.,  1., ...,  1.,  0.,  0.],\n",
       "         [ 0.,  0., 13., ...,  2.,  1.,  0.],\n",
       "         [ 0.,  0., 16., ..., 16.,  5.,  0.],\n",
       "         ...,\n",
       "         [ 0.,  0., 16., ..., 15.,  0.,  0.],\n",
       "         [ 0.,  0., 15., ..., 16.,  0.,  0.],\n",
       "         [ 0.,  0.,  2., ...,  6.,  0.,  0.]],\n",
       " \n",
       "        [[ 0.,  0.,  2., ...,  0.,  0.,  0.],\n",
       "         [ 0.,  0., 14., ..., 15.,  1.,  0.],\n",
       "         [ 0.,  4., 16., ..., 16.,  7.,  0.],\n",
       "         ...,\n",
       "         [ 0.,  0.,  0., ..., 16.,  2.,  0.],\n",
       "         [ 0.,  0.,  4., ..., 16.,  2.,  0.],\n",
       "         [ 0.,  0.,  5., ..., 12.,  0.,  0.]],\n",
       " \n",
       "        [[ 0.,  0., 10., ...,  1.,  0.,  0.],\n",
       "         [ 0.,  2., 16., ...,  1.,  0.,  0.],\n",
       "         [ 0.,  0., 15., ..., 15.,  0.,  0.],\n",
       "         ...,\n",
       "         [ 0.,  4., 16., ..., 16.,  6.,  0.],\n",
       "         [ 0.,  8., 16., ..., 16.,  8.,  0.],\n",
       "         [ 0.,  1.,  8., ..., 12.,  1.,  0.]]]),\n",
       " array([0, 1, 2, ..., 8, 9, 8]))"
      ]
     },
     "execution_count": 48,
     "metadata": {},
     "output_type": "execute_result"
    }
   ],
   "source": [
    "X_data,y_data"
   ]
  },
  {
   "cell_type": "code",
   "execution_count": 54,
   "id": "52209e43",
   "metadata": {},
   "outputs": [],
   "source": [
    "def plot2(index):\n",
    "    plt.figure(figsize=(10,7))\n",
    "    plt.title(str(y_data[index]))\n",
    "    plt.imshow(digits.images[index],cmap=\"gray\")"
   ]
  },
  {
   "cell_type": "code",
   "execution_count": 55,
   "id": "553108d1",
   "metadata": {},
   "outputs": [
    {
     "data": {
      "image/png": "[encoded data removed]",
      "text/plain": [
       "<Figure size 720x504 with 1 Axes>"
      ]
     },
     "metadata": {
      "needs_background": "light"
     },
     "output_type": "display_data"
    }
   ],
   "source": [
    "plot2(8)"
   ]
  },
  {
   "cell_type": "code",
   "execution_count": 63,
   "id": "b103975c",
   "metadata": {},
   "outputs": [
    {
     "data": {
      "text/plain": [
       "(1797, 1437.6000000000001)"
      ]
     },
     "execution_count": 63,
     "metadata": {},
     "output_type": "execute_result"
    }
   ],
   "source": [
    "len(X_data),1797*0.80"
   ]
  },
  {
   "cell_type": "code",
   "execution_count": 65,
   "id": "6522e7bd",
   "metadata": {},
   "outputs": [],
   "source": [
    "X_train=X_data[:1400]\n",
    "X_test=X_data[1400:]\n",
    "y_train=y_data[:1400]\n",
    "y_test=y_data[1400:]"
   ]
  },
  {
   "cell_type": "code",
   "execution_count": 73,
   "id": "976f0f23",
   "metadata": {},
   "outputs": [
    {
     "name": "stdout",
     "output_type": "stream",
     "text": [
      "Epoch 1/100\n",
      "44/44 [==============================] - 1s 6ms/step - loss: 8.4237 - accuracy: 0.0979 - val_loss: 3.5654 - val_accuracy: 0.1436\n",
      "Epoch 2/100\n",
      "44/44 [==============================] - 0s 2ms/step - loss: 2.6595 - accuracy: 0.1664 - val_loss: 2.3885 - val_accuracy: 0.1285\n",
      "Epoch 3/100\n",
      "44/44 [==============================] - 0s 2ms/step - loss: 2.2032 - accuracy: 0.1950 - val_loss: 2.2201 - val_accuracy: 0.1990\n",
      "Epoch 4/100\n",
      "44/44 [==============================] - 0s 2ms/step - loss: 2.0910 - accuracy: 0.2186 - val_loss: 2.1243 - val_accuracy: 0.1662\n",
      "Epoch 5/100\n",
      "44/44 [==============================] - 0s 2ms/step - loss: 2.0186 - accuracy: 0.2371 - val_loss: 2.0611 - val_accuracy: 0.1814\n",
      "Epoch 6/100\n",
      "44/44 [==============================] - 0s 2ms/step - loss: 1.9608 - accuracy: 0.2814 - val_loss: 2.0007 - val_accuracy: 0.2796\n",
      "Epoch 7/100\n",
      "44/44 [==============================] - 0s 2ms/step - loss: 1.9083 - accuracy: 0.3029 - val_loss: 1.9453 - val_accuracy: 0.2972\n",
      "Epoch 8/100\n",
      "44/44 [==============================] - 0s 2ms/step - loss: 1.8509 - accuracy: 0.3264 - val_loss: 1.8791 - val_accuracy: 0.3174\n",
      "Epoch 9/100\n",
      "44/44 [==============================] - 0s 2ms/step - loss: 1.7527 - accuracy: 0.3707 - val_loss: 1.7955 - val_accuracy: 0.3552\n",
      "Epoch 10/100\n",
      "44/44 [==============================] - 0s 2ms/step - loss: 1.6152 - accuracy: 0.4314 - val_loss: 1.7010 - val_accuracy: 0.3753\n",
      "Epoch 11/100\n",
      "44/44 [==============================] - 0s 2ms/step - loss: 1.4989 - accuracy: 0.4650 - val_loss: 1.6184 - val_accuracy: 0.4156\n",
      "Epoch 12/100\n",
      "44/44 [==============================] - 0s 2ms/step - loss: 1.4049 - accuracy: 0.5000 - val_loss: 1.5439 - val_accuracy: 0.4307\n",
      "Epoch 13/100\n",
      "44/44 [==============================] - 0s 2ms/step - loss: 1.3260 - accuracy: 0.5086 - val_loss: 1.4613 - val_accuracy: 0.4660\n",
      "Epoch 14/100\n",
      "44/44 [==============================] - 0s 2ms/step - loss: 1.2598 - accuracy: 0.5086 - val_loss: 1.3732 - val_accuracy: 0.4962\n",
      "Epoch 15/100\n",
      "44/44 [==============================] - 0s 2ms/step - loss: 1.2100 - accuracy: 0.5100 - val_loss: 1.3264 - val_accuracy: 0.4861\n",
      "Epoch 16/100\n",
      "44/44 [==============================] - 0s 2ms/step - loss: 1.1637 - accuracy: 0.5200 - val_loss: 1.2720 - val_accuracy: 0.5013\n",
      "Epoch 17/100\n",
      "44/44 [==============================] - 0s 2ms/step - loss: 1.1281 - accuracy: 0.5750 - val_loss: 1.2434 - val_accuracy: 0.5542\n",
      "Epoch 18/100\n",
      "44/44 [==============================] - 0s 2ms/step - loss: 1.0975 - accuracy: 0.5764 - val_loss: 1.2128 - val_accuracy: 0.5592\n",
      "Epoch 19/100\n",
      "44/44 [==============================] - 0s 2ms/step - loss: 1.0706 - accuracy: 0.5936 - val_loss: 1.1946 - val_accuracy: 0.5693\n",
      "Epoch 20/100\n",
      "44/44 [==============================] - 0s 2ms/step - loss: 1.0485 - accuracy: 0.5921 - val_loss: 1.1664 - val_accuracy: 0.5592\n",
      "Epoch 21/100\n",
      "44/44 [==============================] - 0s 2ms/step - loss: 1.0226 - accuracy: 0.6014 - val_loss: 1.1750 - val_accuracy: 0.5768\n",
      "Epoch 22/100\n",
      "44/44 [==============================] - 0s 2ms/step - loss: 1.0022 - accuracy: 0.6100 - val_loss: 1.1226 - val_accuracy: 0.5945\n",
      "Epoch 23/100\n",
      "44/44 [==============================] - 0s 2ms/step - loss: 0.9804 - accuracy: 0.6107 - val_loss: 1.1016 - val_accuracy: 0.6020\n",
      "Epoch 24/100\n",
      "44/44 [==============================] - 0s 2ms/step - loss: 0.9609 - accuracy: 0.6243 - val_loss: 1.0768 - val_accuracy: 0.5945\n",
      "Epoch 25/100\n",
      "44/44 [==============================] - 0s 2ms/step - loss: 0.9323 - accuracy: 0.6300 - val_loss: 1.0469 - val_accuracy: 0.6045\n",
      "Epoch 26/100\n",
      "44/44 [==============================] - 0s 2ms/step - loss: 0.9008 - accuracy: 0.6407 - val_loss: 1.0327 - val_accuracy: 0.6146\n",
      "Epoch 27/100\n",
      "44/44 [==============================] - 0s 2ms/step - loss: 0.8679 - accuracy: 0.6500 - val_loss: 0.9956 - val_accuracy: 0.6348\n",
      "Epoch 28/100\n",
      "44/44 [==============================] - 0s 2ms/step - loss: 0.8301 - accuracy: 0.6600 - val_loss: 0.9729 - val_accuracy: 0.6474\n",
      "Epoch 29/100\n",
      "44/44 [==============================] - 0s 2ms/step - loss: 0.7920 - accuracy: 0.6686 - val_loss: 0.9558 - val_accuracy: 0.6474\n",
      "Epoch 30/100\n",
      "44/44 [==============================] - 0s 2ms/step - loss: 0.7503 - accuracy: 0.6957 - val_loss: 0.9169 - val_accuracy: 0.6952\n",
      "Epoch 31/100\n",
      "44/44 [==============================] - 0s 2ms/step - loss: 0.7051 - accuracy: 0.7529 - val_loss: 0.8917 - val_accuracy: 0.7305\n",
      "Epoch 32/100\n",
      "44/44 [==============================] - 0s 2ms/step - loss: 0.6505 - accuracy: 0.7836 - val_loss: 0.8683 - val_accuracy: 0.7380\n",
      "Epoch 33/100\n",
      "44/44 [==============================] - 0s 2ms/step - loss: 0.5927 - accuracy: 0.7957 - val_loss: 0.8463 - val_accuracy: 0.7531\n",
      "Epoch 34/100\n",
      "44/44 [==============================] - 0s 2ms/step - loss: 0.5448 - accuracy: 0.8229 - val_loss: 0.8106 - val_accuracy: 0.7431\n",
      "Epoch 35/100\n",
      "44/44 [==============================] - 0s 2ms/step - loss: 0.5036 - accuracy: 0.8429 - val_loss: 0.7792 - val_accuracy: 0.7431\n",
      "Epoch 36/100\n",
      "44/44 [==============================] - 0s 2ms/step - loss: 0.4668 - accuracy: 0.8471 - val_loss: 0.7603 - val_accuracy: 0.7506\n",
      "Epoch 37/100\n",
      "44/44 [==============================] - 0s 2ms/step - loss: 0.4430 - accuracy: 0.8486 - val_loss: 0.7613 - val_accuracy: 0.7406\n",
      "Epoch 38/100\n",
      "44/44 [==============================] - 0s 2ms/step - loss: 0.4109 - accuracy: 0.8629 - val_loss: 0.7469 - val_accuracy: 0.7632\n",
      "Epoch 39/100\n",
      "44/44 [==============================] - 0s 2ms/step - loss: 0.3950 - accuracy: 0.8693 - val_loss: 0.7490 - val_accuracy: 0.7683\n",
      "Epoch 40/100\n",
      "44/44 [==============================] - 0s 2ms/step - loss: 0.3772 - accuracy: 0.8736 - val_loss: 0.7136 - val_accuracy: 0.7683\n",
      "Epoch 41/100\n",
      "44/44 [==============================] - 0s 2ms/step - loss: 0.3565 - accuracy: 0.8836 - val_loss: 0.7069 - val_accuracy: 0.7884\n",
      "Epoch 42/100\n",
      "44/44 [==============================] - 0s 3ms/step - loss: 0.3477 - accuracy: 0.8807 - val_loss: 0.7131 - val_accuracy: 0.7834\n",
      "Epoch 43/100\n",
      "44/44 [==============================] - 0s 2ms/step - loss: 0.3338 - accuracy: 0.8907 - val_loss: 0.6843 - val_accuracy: 0.7834\n",
      "Epoch 44/100\n",
      "44/44 [==============================] - 0s 2ms/step - loss: 0.3206 - accuracy: 0.8900 - val_loss: 0.6946 - val_accuracy: 0.7834\n",
      "Epoch 45/100\n",
      "44/44 [==============================] - 0s 2ms/step - loss: 0.3161 - accuracy: 0.8929 - val_loss: 0.6861 - val_accuracy: 0.7960\n",
      "Epoch 46/100\n",
      "44/44 [==============================] - 0s 2ms/step - loss: 0.3018 - accuracy: 0.9021 - val_loss: 0.6760 - val_accuracy: 0.7985\n",
      "Epoch 47/100\n",
      "44/44 [==============================] - 0s 2ms/step - loss: 0.2931 - accuracy: 0.9007 - val_loss: 0.6792 - val_accuracy: 0.7909\n",
      "Epoch 48/100\n",
      "44/44 [==============================] - 0s 2ms/step - loss: 0.2849 - accuracy: 0.9086 - val_loss: 0.6576 - val_accuracy: 0.8010\n",
      "Epoch 49/100\n",
      "44/44 [==============================] - 0s 2ms/step - loss: 0.2757 - accuracy: 0.9107 - val_loss: 0.6738 - val_accuracy: 0.8035\n",
      "Epoch 50/100\n",
      "44/44 [==============================] - 0s 2ms/step - loss: 0.2675 - accuracy: 0.9164 - val_loss: 0.6658 - val_accuracy: 0.8111\n",
      "Epoch 51/100\n",
      "44/44 [==============================] - 0s 2ms/step - loss: 0.2607 - accuracy: 0.9179 - val_loss: 0.6722 - val_accuracy: 0.8136\n",
      "Epoch 52/100\n",
      "44/44 [==============================] - 0s 2ms/step - loss: 0.2564 - accuracy: 0.9164 - val_loss: 0.6609 - val_accuracy: 0.8086\n",
      "Epoch 53/100\n",
      "44/44 [==============================] - 0s 2ms/step - loss: 0.2480 - accuracy: 0.9200 - val_loss: 0.6594 - val_accuracy: 0.8212\n",
      "Epoch 54/100\n",
      "44/44 [==============================] - 0s 2ms/step - loss: 0.2457 - accuracy: 0.9236 - val_loss: 0.6644 - val_accuracy: 0.8136\n",
      "Epoch 55/100\n",
      "44/44 [==============================] - 0s 2ms/step - loss: 0.2348 - accuracy: 0.9243 - val_loss: 0.6611 - val_accuracy: 0.8262\n",
      "Epoch 56/100\n",
      "44/44 [==============================] - 0s 2ms/step - loss: 0.2303 - accuracy: 0.9286 - val_loss: 0.6544 - val_accuracy: 0.8212\n",
      "Epoch 57/100\n",
      "44/44 [==============================] - 0s 2ms/step - loss: 0.2256 - accuracy: 0.9286 - val_loss: 0.6511 - val_accuracy: 0.8287\n",
      "Epoch 58/100\n",
      "44/44 [==============================] - 0s 2ms/step - loss: 0.2179 - accuracy: 0.9371 - val_loss: 0.6630 - val_accuracy: 0.8312\n"
     ]
    },
    {
     "name": "stdout",
     "output_type": "stream",
     "text": [
      "Epoch 59/100\n",
      "44/44 [==============================] - 0s 2ms/step - loss: 0.2120 - accuracy: 0.9343 - val_loss: 0.6533 - val_accuracy: 0.8287\n",
      "Epoch 60/100\n",
      "44/44 [==============================] - 0s 2ms/step - loss: 0.2092 - accuracy: 0.9350 - val_loss: 0.6624 - val_accuracy: 0.8338\n",
      "Epoch 61/100\n",
      "44/44 [==============================] - 0s 2ms/step - loss: 0.2065 - accuracy: 0.9350 - val_loss: 0.6581 - val_accuracy: 0.8338\n",
      "Epoch 62/100\n",
      "44/44 [==============================] - 0s 2ms/step - loss: 0.1999 - accuracy: 0.9386 - val_loss: 0.6621 - val_accuracy: 0.8413\n",
      "Epoch 63/100\n",
      "44/44 [==============================] - 0s 2ms/step - loss: 0.1996 - accuracy: 0.9371 - val_loss: 0.6562 - val_accuracy: 0.8388\n",
      "Epoch 64/100\n",
      "44/44 [==============================] - 0s 2ms/step - loss: 0.1946 - accuracy: 0.9400 - val_loss: 0.6558 - val_accuracy: 0.8388\n",
      "Epoch 65/100\n",
      "44/44 [==============================] - 0s 2ms/step - loss: 0.1897 - accuracy: 0.9471 - val_loss: 0.6760 - val_accuracy: 0.8287\n",
      "Epoch 66/100\n",
      "44/44 [==============================] - 0s 2ms/step - loss: 0.1856 - accuracy: 0.9450 - val_loss: 0.6778 - val_accuracy: 0.8287\n",
      "Epoch 67/100\n",
      "44/44 [==============================] - 0s 2ms/step - loss: 0.1838 - accuracy: 0.9421 - val_loss: 0.6672 - val_accuracy: 0.8312\n",
      "Epoch 68/100\n",
      "44/44 [==============================] - 0s 2ms/step - loss: 0.1807 - accuracy: 0.9457 - val_loss: 0.6683 - val_accuracy: 0.8312\n",
      "Epoch 69/100\n",
      "44/44 [==============================] - 0s 2ms/step - loss: 0.1790 - accuracy: 0.9443 - val_loss: 0.6746 - val_accuracy: 0.8338\n",
      "Epoch 70/100\n",
      "44/44 [==============================] - 0s 2ms/step - loss: 0.1735 - accuracy: 0.9479 - val_loss: 0.6698 - val_accuracy: 0.8312\n",
      "Epoch 71/100\n",
      "44/44 [==============================] - 0s 2ms/step - loss: 0.1699 - accuracy: 0.9464 - val_loss: 0.6821 - val_accuracy: 0.8338\n",
      "Epoch 72/100\n",
      "44/44 [==============================] - 0s 2ms/step - loss: 0.1694 - accuracy: 0.9500 - val_loss: 0.6826 - val_accuracy: 0.8312\n",
      "Epoch 73/100\n",
      "44/44 [==============================] - 0s 2ms/step - loss: 0.1677 - accuracy: 0.9464 - val_loss: 0.6965 - val_accuracy: 0.8388\n",
      "Epoch 74/100\n",
      "44/44 [==============================] - 0s 2ms/step - loss: 0.1649 - accuracy: 0.9443 - val_loss: 0.6969 - val_accuracy: 0.8287\n",
      "Epoch 75/100\n",
      "44/44 [==============================] - 0s 2ms/step - loss: 0.1582 - accuracy: 0.9514 - val_loss: 0.7010 - val_accuracy: 0.8262\n",
      "Epoch 76/100\n",
      "44/44 [==============================] - 0s 2ms/step - loss: 0.1608 - accuracy: 0.9479 - val_loss: 0.7161 - val_accuracy: 0.8186\n",
      "Epoch 77/100\n",
      "44/44 [==============================] - 0s 2ms/step - loss: 0.1560 - accuracy: 0.9479 - val_loss: 0.7073 - val_accuracy: 0.8312\n",
      "Epoch 78/100\n",
      "44/44 [==============================] - 0s 2ms/step - loss: 0.1522 - accuracy: 0.9507 - val_loss: 0.7250 - val_accuracy: 0.8237\n",
      "Epoch 79/100\n",
      "44/44 [==============================] - 0s 2ms/step - loss: 0.1516 - accuracy: 0.9514 - val_loss: 0.7315 - val_accuracy: 0.8086\n",
      "Epoch 80/100\n",
      "44/44 [==============================] - 0s 2ms/step - loss: 0.1495 - accuracy: 0.9486 - val_loss: 0.7258 - val_accuracy: 0.8237\n",
      "Epoch 81/100\n",
      "44/44 [==============================] - 0s 2ms/step - loss: 0.1499 - accuracy: 0.9543 - val_loss: 0.7218 - val_accuracy: 0.8186\n",
      "Epoch 82/100\n",
      "44/44 [==============================] - 0s 2ms/step - loss: 0.1456 - accuracy: 0.9521 - val_loss: 0.7252 - val_accuracy: 0.8186\n",
      "Epoch 83/100\n",
      "44/44 [==============================] - 0s 2ms/step - loss: 0.1432 - accuracy: 0.9557 - val_loss: 0.7363 - val_accuracy: 0.8237\n",
      "Epoch 84/100\n",
      "44/44 [==============================] - 0s 2ms/step - loss: 0.1435 - accuracy: 0.9564 - val_loss: 0.7443 - val_accuracy: 0.8186\n",
      "Epoch 85/100\n",
      "44/44 [==============================] - 0s 2ms/step - loss: 0.1417 - accuracy: 0.9557 - val_loss: 0.7391 - val_accuracy: 0.8262\n",
      "Epoch 86/100\n",
      "44/44 [==============================] - 0s 2ms/step - loss: 0.1415 - accuracy: 0.9529 - val_loss: 0.7438 - val_accuracy: 0.8338\n",
      "Epoch 87/100\n",
      "44/44 [==============================] - 0s 2ms/step - loss: 0.1385 - accuracy: 0.9579 - val_loss: 0.7369 - val_accuracy: 0.8111\n",
      "Epoch 88/100\n",
      "44/44 [==============================] - 0s 2ms/step - loss: 0.1362 - accuracy: 0.9564 - val_loss: 0.7663 - val_accuracy: 0.8186\n",
      "Epoch 89/100\n",
      "44/44 [==============================] - 0s 2ms/step - loss: 0.1400 - accuracy: 0.9550 - val_loss: 0.7745 - val_accuracy: 0.8237\n",
      "Epoch 90/100\n",
      "44/44 [==============================] - 0s 2ms/step - loss: 0.1304 - accuracy: 0.9621 - val_loss: 0.7578 - val_accuracy: 0.8161\n",
      "Epoch 91/100\n",
      "44/44 [==============================] - 0s 2ms/step - loss: 0.1270 - accuracy: 0.9643 - val_loss: 0.7667 - val_accuracy: 0.8186\n",
      "Epoch 92/100\n",
      "44/44 [==============================] - 0s 2ms/step - loss: 0.1234 - accuracy: 0.9664 - val_loss: 0.7663 - val_accuracy: 0.8287\n",
      "Epoch 93/100\n",
      "44/44 [==============================] - 0s 2ms/step - loss: 0.1239 - accuracy: 0.9636 - val_loss: 0.7742 - val_accuracy: 0.8237\n",
      "Epoch 94/100\n",
      "44/44 [==============================] - 0s 2ms/step - loss: 0.1176 - accuracy: 0.9679 - val_loss: 0.7889 - val_accuracy: 0.8212\n",
      "Epoch 95/100\n",
      "44/44 [==============================] - 0s 2ms/step - loss: 0.1169 - accuracy: 0.9693 - val_loss: 0.7808 - val_accuracy: 0.8212\n",
      "Epoch 96/100\n",
      "44/44 [==============================] - 0s 2ms/step - loss: 0.1155 - accuracy: 0.9671 - val_loss: 0.7970 - val_accuracy: 0.8186\n",
      "Epoch 97/100\n",
      "44/44 [==============================] - 0s 2ms/step - loss: 0.1148 - accuracy: 0.9700 - val_loss: 0.8113 - val_accuracy: 0.8161\n",
      "Epoch 98/100\n",
      "44/44 [==============================] - 0s 2ms/step - loss: 0.1118 - accuracy: 0.9700 - val_loss: 0.8015 - val_accuracy: 0.8186\n",
      "Epoch 99/100\n",
      "44/44 [==============================] - 0s 2ms/step - loss: 0.1081 - accuracy: 0.9750 - val_loss: 0.8259 - val_accuracy: 0.8035\n",
      "Epoch 100/100\n",
      "44/44 [==============================] - 0s 3ms/step - loss: 0.1074 - accuracy: 0.9736 - val_loss: 0.8216 - val_accuracy: 0.8186\n"
     ]
    }
   ],
   "source": [
    "model=tf.keras.Sequential(\n",
    "[   tf.keras.layers.Flatten(input_shape=(8,8)),\n",
    "    tf.keras.layers.Dense(8,activation=\"relu\"),\n",
    "    tf.keras.layers.Dense(8,activation=\"relu\"),\n",
    "     tf.keras.layers.Dense(10,activation=\"softmax\")\n",
    "])\n",
    "\n",
    "model.compile(\n",
    "loss=tf.keras.losses.SparseCategoricalCrossentropy(),\n",
    "optimizer=tf.keras.optimizers.Adam(),\n",
    "metrics=[\"accuracy\"])\n",
    "\n",
    "history=model.fit(X_train,y_train,epochs=100,validation_data=(X_test, y_test))"
   ]
  },
  {
   "cell_type": "code",
   "execution_count": 74,
   "id": "abe20ae0",
   "metadata": {},
   "outputs": [
    {
     "data": {
      "text/plain": [
       "<AxesSubplot:>"
      ]
     },
     "execution_count": 74,
     "metadata": {},
     "output_type": "execute_result"
    },
    {
     "data": {
      "image/png": "[encoded data removed]",
      "text/plain": [
       "<Figure size 432x288 with 1 Axes>"
      ]
     },
     "metadata": {
      "needs_background": "light"
     },
     "output_type": "display_data"
    }
   ],
   "source": [
    "pd.DataFrame(history.history).plot()"
   ]
  },
  {
   "cell_type": "code",
   "execution_count": 76,
   "id": "5dbd9176",
   "metadata": {},
   "outputs": [
    {
     "name": "stdout",
     "output_type": "stream",
     "text": [
      "13/13 [==============================] - 0s 1ms/step - loss: 0.8216 - accuracy: 0.8186\n"
     ]
    },
    {
     "data": {
      "text/plain": [
       "[0.8216438889503479, 0.8186398148536682]"
      ]
     },
     "execution_count": 76,
     "metadata": {},
     "output_type": "execute_result"
    }
   ],
   "source": [
    "model.evaluate(X_test,y_test)"
   ]
  },
  {
   "cell_type": "code",
   "execution_count": 77,
   "id": "4c372d80",
   "metadata": {},
   "outputs": [
    {
     "name": "stdout",
     "output_type": "stream",
     "text": [
      "Epoch 1/100\n",
      "44/44 [==============================] - 0s 1ms/step - loss: 8.1609 - accuracy: 0.0979 - lr: 1.0000e-04\n",
      "Epoch 2/100\n",
      "44/44 [==============================] - 0s 1ms/step - loss: 7.1473 - accuracy: 0.1007 - lr: 1.1220e-04\n",
      "Epoch 3/100\n",
      "44/44 [==============================] - 0s 1ms/step - loss: 6.1765 - accuracy: 0.0993 - lr: 1.2589e-04\n",
      "Epoch 4/100\n",
      "44/44 [==============================] - 0s 1ms/step - loss: 5.2836 - accuracy: 0.1021 - lr: 1.4125e-04\n",
      "Epoch 5/100\n",
      "44/44 [==============================] - 0s 1ms/step - loss: 4.4967 - accuracy: 0.1121 - lr: 1.5849e-04\n",
      "Epoch 6/100\n",
      "44/44 [==============================] - 0s 1ms/step - loss: 3.8500 - accuracy: 0.1150 - lr: 1.7783e-04\n",
      "Epoch 7/100\n",
      "44/44 [==============================] - 0s 1ms/step - loss: 3.3629 - accuracy: 0.1207 - lr: 1.9953e-04\n",
      "Epoch 8/100\n",
      "44/44 [==============================] - 0s 1ms/step - loss: 3.0147 - accuracy: 0.1193 - lr: 2.2387e-04\n",
      "Epoch 9/100\n",
      "44/44 [==============================] - 0s 1ms/step - loss: 2.7656 - accuracy: 0.1186 - lr: 2.5119e-04\n",
      "Epoch 10/100\n",
      "44/44 [==============================] - 0s 1ms/step - loss: 2.5881 - accuracy: 0.1193 - lr: 2.8184e-04\n",
      "Epoch 11/100\n",
      "44/44 [==============================] - 0s 2ms/step - loss: 2.4622 - accuracy: 0.1357 - lr: 3.1623e-04\n",
      "Epoch 12/100\n",
      "44/44 [==============================] - 0s 1ms/step - loss: 2.3712 - accuracy: 0.1421 - lr: 3.5481e-04\n",
      "Epoch 13/100\n",
      "44/44 [==============================] - 0s 1ms/step - loss: 2.3047 - accuracy: 0.1450 - lr: 3.9811e-04\n",
      "Epoch 14/100\n",
      "44/44 [==============================] - 0s 2ms/step - loss: 2.2512 - accuracy: 0.1536 - lr: 4.4668e-04\n",
      "Epoch 15/100\n",
      "44/44 [==============================] - 0s 2ms/step - loss: 2.2050 - accuracy: 0.1621 - lr: 5.0119e-04\n",
      "Epoch 16/100\n",
      "44/44 [==============================] - 0s 2ms/step - loss: 2.1621 - accuracy: 0.1843 - lr: 5.6234e-04\n",
      "Epoch 17/100\n",
      "44/44 [==============================] - 0s 2ms/step - loss: 2.1191 - accuracy: 0.2086 - lr: 6.3096e-04\n",
      "Epoch 18/100\n",
      "44/44 [==============================] - 0s 1ms/step - loss: 2.0712 - accuracy: 0.2271 - lr: 7.0795e-04\n",
      "Epoch 19/100\n",
      "44/44 [==============================] - 0s 2ms/step - loss: 2.0042 - accuracy: 0.2507 - lr: 7.9433e-04\n",
      "Epoch 20/100\n",
      "44/44 [==============================] - 0s 2ms/step - loss: 1.9141 - accuracy: 0.2971 - lr: 8.9125e-04\n",
      "Epoch 21/100\n",
      "44/44 [==============================] - 0s 2ms/step - loss: 1.8236 - accuracy: 0.3343 - lr: 0.0010\n",
      "Epoch 22/100\n",
      "44/44 [==============================] - 0s 2ms/step - loss: 1.7396 - accuracy: 0.3586 - lr: 0.0011\n",
      "Epoch 23/100\n",
      "44/44 [==============================] - 0s 2ms/step - loss: 1.6536 - accuracy: 0.4079 - lr: 0.0013\n",
      "Epoch 24/100\n",
      "44/44 [==============================] - 0s 2ms/step - loss: 1.5586 - accuracy: 0.4629 - lr: 0.0014\n",
      "Epoch 25/100\n",
      "44/44 [==============================] - 0s 2ms/step - loss: 1.4394 - accuracy: 0.5200 - lr: 0.0016\n",
      "Epoch 26/100\n",
      "44/44 [==============================] - 0s 2ms/step - loss: 1.3032 - accuracy: 0.5714 - lr: 0.0018\n",
      "Epoch 27/100\n",
      "44/44 [==============================] - 0s 2ms/step - loss: 1.1695 - accuracy: 0.6200 - lr: 0.0020\n",
      "Epoch 28/100\n",
      "44/44 [==============================] - 0s 2ms/step - loss: 1.0496 - accuracy: 0.6693 - lr: 0.0022\n",
      "Epoch 29/100\n",
      "44/44 [==============================] - 0s 2ms/step - loss: 0.9153 - accuracy: 0.7157 - lr: 0.0025\n",
      "Epoch 30/100\n",
      "44/44 [==============================] - 0s 2ms/step - loss: 0.7537 - accuracy: 0.7614 - lr: 0.0028\n",
      "Epoch 31/100\n",
      "44/44 [==============================] - 0s 2ms/step - loss: 0.5830 - accuracy: 0.8371 - lr: 0.0032\n",
      "Epoch 32/100\n",
      "44/44 [==============================] - 0s 2ms/step - loss: 0.4449 - accuracy: 0.8686 - lr: 0.0035\n",
      "Epoch 33/100\n",
      "44/44 [==============================] - 0s 2ms/step - loss: 0.3512 - accuracy: 0.8964 - lr: 0.0040\n",
      "Epoch 34/100\n",
      "44/44 [==============================] - 0s 2ms/step - loss: 0.2777 - accuracy: 0.9164 - lr: 0.0045\n",
      "Epoch 35/100\n",
      "44/44 [==============================] - 0s 1ms/step - loss: 0.2366 - accuracy: 0.9243 - lr: 0.0050\n",
      "Epoch 36/100\n",
      "44/44 [==============================] - 0s 2ms/step - loss: 0.1997 - accuracy: 0.9393 - lr: 0.0056\n",
      "Epoch 37/100\n",
      "44/44 [==============================] - 0s 2ms/step - loss: 0.1755 - accuracy: 0.9443 - lr: 0.0063\n",
      "Epoch 38/100\n",
      "44/44 [==============================] - 0s 2ms/step - loss: 0.1518 - accuracy: 0.9536 - lr: 0.0071\n",
      "Epoch 39/100\n",
      "44/44 [==============================] - 0s 2ms/step - loss: 0.1439 - accuracy: 0.9500 - lr: 0.0079\n",
      "Epoch 40/100\n",
      "44/44 [==============================] - 0s 1ms/step - loss: 0.1245 - accuracy: 0.9564 - lr: 0.0089\n",
      "Epoch 41/100\n",
      "44/44 [==============================] - 0s 2ms/step - loss: 0.1429 - accuracy: 0.9529 - lr: 0.0100\n",
      "Epoch 42/100\n",
      "44/44 [==============================] - 0s 2ms/step - loss: 0.1109 - accuracy: 0.9650 - lr: 0.0112\n",
      "Epoch 43/100\n",
      "44/44 [==============================] - 0s 2ms/step - loss: 0.1207 - accuracy: 0.9636 - lr: 0.0126\n",
      "Epoch 44/100\n",
      "44/44 [==============================] - 0s 2ms/step - loss: 0.1230 - accuracy: 0.9643 - lr: 0.0141\n",
      "Epoch 45/100\n",
      "44/44 [==============================] - 0s 2ms/step - loss: 0.1552 - accuracy: 0.9486 - lr: 0.0158\n",
      "Epoch 46/100\n",
      "44/44 [==============================] - 0s 2ms/step - loss: 0.2573 - accuracy: 0.9200 - lr: 0.0178\n",
      "Epoch 47/100\n",
      "44/44 [==============================] - 0s 2ms/step - loss: 0.2871 - accuracy: 0.9250 - lr: 0.0200\n",
      "Epoch 48/100\n",
      "44/44 [==============================] - 0s 2ms/step - loss: 0.2501 - accuracy: 0.9407 - lr: 0.0224\n",
      "Epoch 49/100\n",
      "44/44 [==============================] - 0s 2ms/step - loss: 0.2495 - accuracy: 0.9286 - lr: 0.0251\n",
      "Epoch 50/100\n",
      "44/44 [==============================] - 0s 2ms/step - loss: 0.2261 - accuracy: 0.9400 - lr: 0.0282\n",
      "Epoch 51/100\n",
      "44/44 [==============================] - 0s 2ms/step - loss: 0.2149 - accuracy: 0.9393 - lr: 0.0316\n",
      "Epoch 52/100\n",
      "44/44 [==============================] - 0s 2ms/step - loss: 0.2953 - accuracy: 0.9279 - lr: 0.0355\n",
      "Epoch 53/100\n",
      "44/44 [==============================] - 0s 2ms/step - loss: 0.2969 - accuracy: 0.9300 - lr: 0.0398\n",
      "Epoch 54/100\n",
      "44/44 [==============================] - 0s 1ms/step - loss: 0.5305 - accuracy: 0.8693 - lr: 0.0447\n",
      "Epoch 55/100\n",
      "44/44 [==============================] - 0s 2ms/step - loss: 0.9313 - accuracy: 0.7400 - lr: 0.0501\n",
      "Epoch 56/100\n",
      "44/44 [==============================] - 0s 2ms/step - loss: 1.6480 - accuracy: 0.5136 - lr: 0.0562\n",
      "Epoch 57/100\n",
      "44/44 [==============================] - 0s 2ms/step - loss: 1.0521 - accuracy: 0.5943 - lr: 0.0631\n",
      "Epoch 58/100\n",
      "44/44 [==============================] - 0s 1ms/step - loss: 0.8189 - accuracy: 0.6407 - lr: 0.0708\n",
      "Epoch 59/100\n",
      "44/44 [==============================] - 0s 2ms/step - loss: 1.0830 - accuracy: 0.5979 - lr: 0.0794\n",
      "Epoch 60/100\n",
      "44/44 [==============================] - 0s 1ms/step - loss: 1.1880 - accuracy: 0.5443 - lr: 0.0891\n",
      "Epoch 61/100\n",
      "44/44 [==============================] - 0s 2ms/step - loss: 1.1958 - accuracy: 0.5257 - lr: 0.1000\n",
      "Epoch 62/100\n",
      "44/44 [==============================] - 0s 2ms/step - loss: 1.4811 - accuracy: 0.4857 - lr: 0.1122\n",
      "Epoch 63/100\n",
      "44/44 [==============================] - 0s 2ms/step - loss: 1.9039 - accuracy: 0.3607 - lr: 0.1259\n",
      "Epoch 64/100\n",
      "44/44 [==============================] - 0s 2ms/step - loss: 2.1905 - accuracy: 0.1979 - lr: 0.1413\n",
      "Epoch 65/100\n",
      "44/44 [==============================] - 0s 2ms/step - loss: 2.0714 - accuracy: 0.1793 - lr: 0.1585\n",
      "Epoch 66/100\n",
      "44/44 [==============================] - 0s 2ms/step - loss: 2.1080 - accuracy: 0.1686 - lr: 0.1778\n",
      "Epoch 67/100\n",
      "44/44 [==============================] - 0s 2ms/step - loss: 2.2101 - accuracy: 0.1593 - lr: 0.1995\n",
      "Epoch 68/100\n",
      "44/44 [==============================] - 0s 2ms/step - loss: 2.3322 - accuracy: 0.1014 - lr: 0.2239\n",
      "Epoch 69/100\n",
      "44/44 [==============================] - 0s 2ms/step - loss: 2.3399 - accuracy: 0.0979 - lr: 0.2512\n",
      "Epoch 70/100\n",
      "44/44 [==============================] - 0s 2ms/step - loss: 2.3406 - accuracy: 0.0943 - lr: 0.2818\n",
      "Epoch 71/100\n",
      "44/44 [==============================] - 0s 2ms/step - loss: 2.3441 - accuracy: 0.1000 - lr: 0.3162\n",
      "Epoch 72/100\n",
      "44/44 [==============================] - 0s 2ms/step - loss: 2.3654 - accuracy: 0.1036 - lr: 0.3548\n"
     ]
    },
    {
     "name": "stdout",
     "output_type": "stream",
     "text": [
      "Epoch 73/100\n",
      "44/44 [==============================] - 0s 2ms/step - loss: 2.3709 - accuracy: 0.1129 - lr: 0.3981\n",
      "Epoch 74/100\n",
      "44/44 [==============================] - 0s 2ms/step - loss: 2.3690 - accuracy: 0.1036 - lr: 0.4467\n",
      "Epoch 75/100\n",
      "44/44 [==============================] - 0s 2ms/step - loss: 2.3672 - accuracy: 0.1021 - lr: 0.5012\n",
      "Epoch 76/100\n",
      "44/44 [==============================] - 0s 1ms/step - loss: 2.4035 - accuracy: 0.0821 - lr: 0.5623\n",
      "Epoch 77/100\n",
      "44/44 [==============================] - 0s 1ms/step - loss: 2.4104 - accuracy: 0.0943 - lr: 0.6310\n",
      "Epoch 78/100\n",
      "44/44 [==============================] - 0s 1ms/step - loss: 2.3966 - accuracy: 0.0957 - lr: 0.7079\n",
      "Epoch 79/100\n",
      "44/44 [==============================] - 0s 2ms/step - loss: 2.4040 - accuracy: 0.1000 - lr: 0.7943\n",
      "Epoch 80/100\n",
      "44/44 [==============================] - 0s 2ms/step - loss: 2.4278 - accuracy: 0.0971 - lr: 0.8913\n",
      "Epoch 81/100\n",
      "44/44 [==============================] - 0s 1ms/step - loss: 2.4011 - accuracy: 0.1007 - lr: 1.0000\n",
      "Epoch 82/100\n",
      "44/44 [==============================] - 0s 2ms/step - loss: 2.4430 - accuracy: 0.0993 - lr: 1.1220\n",
      "Epoch 83/100\n",
      "44/44 [==============================] - 0s 2ms/step - loss: 2.4569 - accuracy: 0.0786 - lr: 1.2589\n",
      "Epoch 84/100\n",
      "44/44 [==============================] - 0s 1ms/step - loss: 2.4947 - accuracy: 0.0914 - lr: 1.4125\n",
      "Epoch 85/100\n",
      "44/44 [==============================] - 0s 1ms/step - loss: 2.5087 - accuracy: 0.0943 - lr: 1.5849\n",
      "Epoch 86/100\n",
      "44/44 [==============================] - 0s 1ms/step - loss: 2.5049 - accuracy: 0.1100 - lr: 1.7783\n",
      "Epoch 87/100\n",
      "44/44 [==============================] - 0s 1ms/step - loss: 2.5609 - accuracy: 0.1021 - lr: 1.9953\n",
      "Epoch 88/100\n",
      "44/44 [==============================] - 0s 1ms/step - loss: 2.4997 - accuracy: 0.1064 - lr: 2.2387\n",
      "Epoch 89/100\n",
      "44/44 [==============================] - 0s 1ms/step - loss: 2.7247 - accuracy: 0.0950 - lr: 2.5119\n",
      "Epoch 90/100\n",
      "44/44 [==============================] - 0s 1ms/step - loss: 2.6825 - accuracy: 0.1064 - lr: 2.8184\n",
      "Epoch 91/100\n",
      "44/44 [==============================] - 0s 1ms/step - loss: 2.7448 - accuracy: 0.0971 - lr: 3.1623\n",
      "Epoch 92/100\n",
      "44/44 [==============================] - 0s 1ms/step - loss: 2.7375 - accuracy: 0.0929 - lr: 3.5481\n",
      "Epoch 93/100\n",
      "44/44 [==============================] - 0s 1ms/step - loss: 2.7302 - accuracy: 0.0964 - lr: 3.9811\n",
      "Epoch 94/100\n",
      "44/44 [==============================] - 0s 1ms/step - loss: 2.8708 - accuracy: 0.1064 - lr: 4.4668\n",
      "Epoch 95/100\n",
      "44/44 [==============================] - 0s 1ms/step - loss: 3.0604 - accuracy: 0.0971 - lr: 5.0119\n",
      "Epoch 96/100\n",
      "44/44 [==============================] - 0s 1ms/step - loss: 2.8322 - accuracy: 0.1014 - lr: 5.6234\n",
      "Epoch 97/100\n",
      "44/44 [==============================] - 0s 1ms/step - loss: 3.0219 - accuracy: 0.0964 - lr: 6.3096\n",
      "Epoch 98/100\n",
      "44/44 [==============================] - 0s 1ms/step - loss: 3.0770 - accuracy: 0.1029 - lr: 7.0795\n",
      "Epoch 99/100\n",
      "44/44 [==============================] - 0s 1ms/step - loss: 3.8577 - accuracy: 0.1064 - lr: 7.9433\n",
      "Epoch 100/100\n",
      "44/44 [==============================] - 0s 1ms/step - loss: 4.8718 - accuracy: 0.0864 - lr: 8.9125\n"
     ]
    }
   ],
   "source": [
    "model_1=tf.keras.Sequential([\n",
    "    tf.keras.layers.Flatten(input_shape=(8,8)),\n",
    "    tf.keras.layers.Dense(8,activation=\"relu\"),\n",
    "    tf.keras.layers.Dense(8,activation=\"relu\"),\n",
    "    tf.keras.layers.Dense(10,activation=\"softmax\"),\n",
    "])\n",
    "\n",
    "model_1.compile(\n",
    "loss=tf.keras.losses.SparseCategoricalCrossentropy(),\n",
    "optimizer=tf.keras.optimizers.Adam(),\n",
    "metrics=[\"accuracy\"])\n",
    "\n",
    "lr=tf.keras.callbacks.LearningRateScheduler(lambda epochs:1e-4*10**(epochs/20))\n",
    "\n",
    "\n",
    "History=model_1.fit(X_train,y_train,callbacks=[lr],epochs=100)"
   ]
  },
  {
   "cell_type": "code",
   "execution_count": 78,
   "id": "18e97987",
   "metadata": {},
   "outputs": [
    {
     "data": {
      "text/plain": [
       "<AxesSubplot:>"
      ]
     },
     "execution_count": 78,
     "metadata": {},
     "output_type": "execute_result"
    },
    {
     "data": {
      "image/png": "[encoded data removed]",
      "text/plain": [
       "<Figure size 432x288 with 1 Axes>"
      ]
     },
     "metadata": {
      "needs_background": "light"
     },
     "output_type": "display_data"
    }
   ],
   "source": [
    "pd.DataFrame(History.history).plot()"
   ]
  },
  {
   "cell_type": "code",
   "execution_count": 79,
   "id": "3099b1a3",
   "metadata": {},
   "outputs": [],
   "source": [
    "lrs=1e-4*10**(tf.range(100)/20)"
   ]
  },
  {
   "cell_type": "code",
   "execution_count": 80,
   "id": "bdedb7c2",
   "metadata": {},
   "outputs": [
    {
     "data": {
      "text/plain": [
       "<tf.Tensor: shape=(100,), dtype=float64, numpy=\n",
       "array([1.00000000e-04, 1.12201845e-04, 1.25892541e-04, 1.41253754e-04,\n",
       "       1.58489319e-04, 1.77827941e-04, 1.99526231e-04, 2.23872114e-04,\n",
       "       2.51188643e-04, 2.81838293e-04, 3.16227766e-04, 3.54813389e-04,\n",
       "       3.98107171e-04, 4.46683592e-04, 5.01187234e-04, 5.62341325e-04,\n",
       "       6.30957344e-04, 7.07945784e-04, 7.94328235e-04, 8.91250938e-04,\n",
       "       1.00000000e-03, 1.12201845e-03, 1.25892541e-03, 1.41253754e-03,\n",
       "       1.58489319e-03, 1.77827941e-03, 1.99526231e-03, 2.23872114e-03,\n",
       "       2.51188643e-03, 2.81838293e-03, 3.16227766e-03, 3.54813389e-03,\n",
       "       3.98107171e-03, 4.46683592e-03, 5.01187234e-03, 5.62341325e-03,\n",
       "       6.30957344e-03, 7.07945784e-03, 7.94328235e-03, 8.91250938e-03,\n",
       "       1.00000000e-02, 1.12201845e-02, 1.25892541e-02, 1.41253754e-02,\n",
       "       1.58489319e-02, 1.77827941e-02, 1.99526231e-02, 2.23872114e-02,\n",
       "       2.51188643e-02, 2.81838293e-02, 3.16227766e-02, 3.54813389e-02,\n",
       "       3.98107171e-02, 4.46683592e-02, 5.01187234e-02, 5.62341325e-02,\n",
       "       6.30957344e-02, 7.07945784e-02, 7.94328235e-02, 8.91250938e-02,\n",
       "       1.00000000e-01, 1.12201845e-01, 1.25892541e-01, 1.41253754e-01,\n",
       "       1.58489319e-01, 1.77827941e-01, 1.99526231e-01, 2.23872114e-01,\n",
       "       2.51188643e-01, 2.81838293e-01, 3.16227766e-01, 3.54813389e-01,\n",
       "       3.98107171e-01, 4.46683592e-01, 5.01187234e-01, 5.62341325e-01,\n",
       "       6.30957344e-01, 7.07945784e-01, 7.94328235e-01, 8.91250938e-01,\n",
       "       1.00000000e+00, 1.12201845e+00, 1.25892541e+00, 1.41253754e+00,\n",
       "       1.58489319e+00, 1.77827941e+00, 1.99526231e+00, 2.23872114e+00,\n",
       "       2.51188643e+00, 2.81838293e+00, 3.16227766e+00, 3.54813389e+00,\n",
       "       3.98107171e+00, 4.46683592e+00, 5.01187234e+00, 5.62341325e+00,\n",
       "       6.30957344e+00, 7.07945784e+00, 7.94328235e+00, 8.91250938e+00])>"
      ]
     },
     "execution_count": 80,
     "metadata": {},
     "output_type": "execute_result"
    }
   ],
   "source": [
    "lrs"
   ]
  },
  {
   "cell_type": "code",
   "execution_count": 81,
   "id": "22f7268a",
   "metadata": {},
   "outputs": [
    {
     "data": {
      "text/plain": [
       "[<matplotlib.lines.Line2D at 0x1d2d2d7e100>]"
      ]
     },
     "execution_count": 81,
     "metadata": {},
     "output_type": "execute_result"
    },
    {
     "data": {
      "image/png": "[encoded data removed]",
      "text/plain": [
       "<Figure size 432x288 with 1 Axes>"
      ]
     },
     "metadata": {
      "needs_background": "light"
     },
     "output_type": "display_data"
    }
   ],
   "source": [
    "plt.semilogx(lrs,pd.DataFrame(History.history)[\"loss\"])"
   ]
  },
  {
   "cell_type": "code",
   "execution_count": 87,
   "id": "290a73f0",
   "metadata": {},
   "outputs": [
    {
     "name": "stdout",
     "output_type": "stream",
     "text": [
      "Epoch 1/200\n",
      "44/44 [==============================] - 0s 5ms/step - loss: 5.9870 - accuracy: 0.1536 - val_loss: 5.3429 - val_accuracy: 0.1385\n",
      "Epoch 2/200\n",
      "44/44 [==============================] - 0s 2ms/step - loss: 4.7219 - accuracy: 0.1686 - val_loss: 4.3362 - val_accuracy: 0.1562\n",
      "Epoch 3/200\n",
      "44/44 [==============================] - 0s 2ms/step - loss: 3.9503 - accuracy: 0.1836 - val_loss: 3.7651 - val_accuracy: 0.1587\n",
      "Epoch 4/200\n",
      "44/44 [==============================] - 0s 2ms/step - loss: 3.4608 - accuracy: 0.1971 - val_loss: 3.3910 - val_accuracy: 0.1788\n",
      "Epoch 5/200\n",
      "44/44 [==============================] - 0s 2ms/step - loss: 3.1286 - accuracy: 0.2107 - val_loss: 3.1175 - val_accuracy: 0.1763\n",
      "Epoch 6/200\n",
      "44/44 [==============================] - 0s 2ms/step - loss: 2.8817 - accuracy: 0.2221 - val_loss: 2.9049 - val_accuracy: 0.2065\n",
      "Epoch 7/200\n",
      "44/44 [==============================] - 0s 2ms/step - loss: 2.6859 - accuracy: 0.2486 - val_loss: 2.7342 - val_accuracy: 0.2116\n",
      "Epoch 8/200\n",
      "44/44 [==============================] - 0s 2ms/step - loss: 2.5232 - accuracy: 0.2693 - val_loss: 2.5795 - val_accuracy: 0.2418\n",
      "Epoch 9/200\n",
      "44/44 [==============================] - 0s 2ms/step - loss: 2.3856 - accuracy: 0.2850 - val_loss: 2.4517 - val_accuracy: 0.2670\n",
      "Epoch 10/200\n",
      "44/44 [==============================] - 0s 2ms/step - loss: 2.2652 - accuracy: 0.3000 - val_loss: 2.3320 - val_accuracy: 0.2821\n",
      "Epoch 11/200\n",
      "44/44 [==============================] - 0s 2ms/step - loss: 2.1552 - accuracy: 0.3086 - val_loss: 2.2338 - val_accuracy: 0.3023\n",
      "Epoch 12/200\n",
      "44/44 [==============================] - 0s 2ms/step - loss: 2.0560 - accuracy: 0.3329 - val_loss: 2.1484 - val_accuracy: 0.3123\n",
      "Epoch 13/200\n",
      "44/44 [==============================] - 0s 2ms/step - loss: 1.9646 - accuracy: 0.3400 - val_loss: 2.0791 - val_accuracy: 0.3224\n",
      "Epoch 14/200\n",
      "44/44 [==============================] - 0s 2ms/step - loss: 1.8794 - accuracy: 0.3621 - val_loss: 2.0095 - val_accuracy: 0.3426\n",
      "Epoch 15/200\n",
      "44/44 [==============================] - 0s 2ms/step - loss: 1.7991 - accuracy: 0.3771 - val_loss: 1.9542 - val_accuracy: 0.3577\n",
      "Epoch 16/200\n",
      "44/44 [==============================] - 0s 2ms/step - loss: 1.7256 - accuracy: 0.4007 - val_loss: 1.9006 - val_accuracy: 0.3703\n",
      "Epoch 17/200\n",
      "44/44 [==============================] - 0s 2ms/step - loss: 1.6595 - accuracy: 0.4214 - val_loss: 1.8536 - val_accuracy: 0.3804\n",
      "Epoch 18/200\n",
      "44/44 [==============================] - 0s 2ms/step - loss: 1.5986 - accuracy: 0.4507 - val_loss: 1.8083 - val_accuracy: 0.4030\n",
      "Epoch 19/200\n",
      "44/44 [==============================] - 0s 2ms/step - loss: 1.5423 - accuracy: 0.4700 - val_loss: 1.7673 - val_accuracy: 0.4207\n",
      "Epoch 20/200\n",
      "44/44 [==============================] - 0s 2ms/step - loss: 1.4893 - accuracy: 0.4814 - val_loss: 1.7196 - val_accuracy: 0.4433\n",
      "Epoch 21/200\n",
      "44/44 [==============================] - 0s 2ms/step - loss: 1.4401 - accuracy: 0.5007 - val_loss: 1.6810 - val_accuracy: 0.4584\n",
      "Epoch 22/200\n",
      "44/44 [==============================] - 0s 2ms/step - loss: 1.3906 - accuracy: 0.5200 - val_loss: 1.6447 - val_accuracy: 0.4736\n",
      "Epoch 23/200\n",
      "44/44 [==============================] - 0s 2ms/step - loss: 1.3458 - accuracy: 0.5371 - val_loss: 1.6072 - val_accuracy: 0.4912\n",
      "Epoch 24/200\n",
      "44/44 [==============================] - 0s 2ms/step - loss: 1.3023 - accuracy: 0.5457 - val_loss: 1.5794 - val_accuracy: 0.4987\n",
      "Epoch 25/200\n",
      "44/44 [==============================] - 0s 2ms/step - loss: 1.2601 - accuracy: 0.5593 - val_loss: 1.5514 - val_accuracy: 0.5189\n",
      "Epoch 26/200\n",
      "44/44 [==============================] - 0s 2ms/step - loss: 1.2189 - accuracy: 0.5750 - val_loss: 1.5211 - val_accuracy: 0.5315\n",
      "Epoch 27/200\n",
      "44/44 [==============================] - 0s 2ms/step - loss: 1.1805 - accuracy: 0.5914 - val_loss: 1.4957 - val_accuracy: 0.5340\n",
      "Epoch 28/200\n",
      "44/44 [==============================] - 0s 3ms/step - loss: 1.1433 - accuracy: 0.6093 - val_loss: 1.4705 - val_accuracy: 0.5390\n",
      "Epoch 29/200\n",
      "44/44 [==============================] - 0s 2ms/step - loss: 1.1085 - accuracy: 0.6200 - val_loss: 1.4469 - val_accuracy: 0.5491\n",
      "Epoch 30/200\n",
      "44/44 [==============================] - 0s 2ms/step - loss: 1.0765 - accuracy: 0.6329 - val_loss: 1.4247 - val_accuracy: 0.5567\n",
      "Epoch 31/200\n",
      "44/44 [==============================] - 0s 3ms/step - loss: 1.0449 - accuracy: 0.6393 - val_loss: 1.4037 - val_accuracy: 0.5668\n",
      "Epoch 32/200\n",
      "44/44 [==============================] - 0s 3ms/step - loss: 1.0150 - accuracy: 0.6507 - val_loss: 1.3841 - val_accuracy: 0.5743\n",
      "Epoch 33/200\n",
      "44/44 [==============================] - 0s 3ms/step - loss: 0.9873 - accuracy: 0.6593 - val_loss: 1.3696 - val_accuracy: 0.5793\n",
      "Epoch 34/200\n",
      "44/44 [==============================] - 0s 3ms/step - loss: 0.9602 - accuracy: 0.6664 - val_loss: 1.3518 - val_accuracy: 0.5844\n",
      "Epoch 35/200\n",
      "44/44 [==============================] - 0s 3ms/step - loss: 0.9351 - accuracy: 0.6800 - val_loss: 1.3338 - val_accuracy: 0.5945\n",
      "Epoch 36/200\n",
      "44/44 [==============================] - 0s 2ms/step - loss: 0.9107 - accuracy: 0.6871 - val_loss: 1.3212 - val_accuracy: 0.6020\n",
      "Epoch 37/200\n",
      "44/44 [==============================] - 0s 2ms/step - loss: 0.8880 - accuracy: 0.6957 - val_loss: 1.3049 - val_accuracy: 0.6096\n",
      "Epoch 38/200\n",
      "44/44 [==============================] - 0s 2ms/step - loss: 0.8669 - accuracy: 0.7014 - val_loss: 1.2928 - val_accuracy: 0.6096\n",
      "Epoch 39/200\n",
      "44/44 [==============================] - 0s 2ms/step - loss: 0.8454 - accuracy: 0.7086 - val_loss: 1.2767 - val_accuracy: 0.6121\n",
      "Epoch 40/200\n",
      "44/44 [==============================] - 0s 2ms/step - loss: 0.8254 - accuracy: 0.7143 - val_loss: 1.2643 - val_accuracy: 0.6096\n",
      "Epoch 41/200\n",
      "44/44 [==============================] - 0s 2ms/step - loss: 0.8061 - accuracy: 0.7157 - val_loss: 1.2525 - val_accuracy: 0.6171\n",
      "Epoch 42/200\n",
      "44/44 [==============================] - 0s 2ms/step - loss: 0.7874 - accuracy: 0.7229 - val_loss: 1.2408 - val_accuracy: 0.6196\n",
      "Epoch 43/200\n",
      "44/44 [==============================] - 0s 2ms/step - loss: 0.7692 - accuracy: 0.7286 - val_loss: 1.2300 - val_accuracy: 0.6272\n",
      "Epoch 44/200\n",
      "44/44 [==============================] - 0s 2ms/step - loss: 0.7525 - accuracy: 0.7343 - val_loss: 1.2180 - val_accuracy: 0.6322\n",
      "Epoch 45/200\n",
      "44/44 [==============================] - 0s 2ms/step - loss: 0.7351 - accuracy: 0.7443 - val_loss: 1.2066 - val_accuracy: 0.6423\n",
      "Epoch 46/200\n",
      "44/44 [==============================] - 0s 2ms/step - loss: 0.7191 - accuracy: 0.7529 - val_loss: 1.1963 - val_accuracy: 0.6499\n",
      "Epoch 47/200\n",
      "44/44 [==============================] - 0s 2ms/step - loss: 0.7030 - accuracy: 0.7557 - val_loss: 1.1874 - val_accuracy: 0.6499\n",
      "Epoch 48/200\n",
      "44/44 [==============================] - 0s 2ms/step - loss: 0.6887 - accuracy: 0.7643 - val_loss: 1.1760 - val_accuracy: 0.6499\n",
      "Epoch 49/200\n",
      "44/44 [==============================] - 0s 2ms/step - loss: 0.6731 - accuracy: 0.7679 - val_loss: 1.1669 - val_accuracy: 0.6625\n",
      "Epoch 50/200\n",
      "44/44 [==============================] - 0s 2ms/step - loss: 0.6591 - accuracy: 0.7743 - val_loss: 1.1559 - val_accuracy: 0.6675\n",
      "Epoch 51/200\n",
      "44/44 [==============================] - 0s 2ms/step - loss: 0.6449 - accuracy: 0.7821 - val_loss: 1.1480 - val_accuracy: 0.6751\n",
      "Epoch 52/200\n",
      "44/44 [==============================] - 0s 2ms/step - loss: 0.6308 - accuracy: 0.7893 - val_loss: 1.1352 - val_accuracy: 0.6776\n",
      "Epoch 53/200\n",
      "44/44 [==============================] - 0s 2ms/step - loss: 0.6169 - accuracy: 0.7971 - val_loss: 1.1261 - val_accuracy: 0.6801\n",
      "Epoch 54/200\n",
      "44/44 [==============================] - 0s 2ms/step - loss: 0.6035 - accuracy: 0.8021 - val_loss: 1.1197 - val_accuracy: 0.6776\n",
      "Epoch 55/200\n",
      "44/44 [==============================] - 0s 2ms/step - loss: 0.5912 - accuracy: 0.8050 - val_loss: 1.1061 - val_accuracy: 0.6826\n",
      "Epoch 56/200\n",
      "44/44 [==============================] - 0s 2ms/step - loss: 0.5772 - accuracy: 0.8121 - val_loss: 1.0968 - val_accuracy: 0.6877\n",
      "Epoch 57/200\n",
      "44/44 [==============================] - 0s 2ms/step - loss: 0.5648 - accuracy: 0.8171 - val_loss: 1.0912 - val_accuracy: 0.6851\n",
      "Epoch 58/200\n",
      "44/44 [==============================] - 0s 2ms/step - loss: 0.5525 - accuracy: 0.8214 - val_loss: 1.0801 - val_accuracy: 0.6902\n"
     ]
    },
    {
     "name": "stdout",
     "output_type": "stream",
     "text": [
      "Epoch 59/200\n",
      "44/44 [==============================] - 0s 2ms/step - loss: 0.5401 - accuracy: 0.8286 - val_loss: 1.0684 - val_accuracy: 0.6952\n",
      "Epoch 60/200\n",
      "44/44 [==============================] - 0s 2ms/step - loss: 0.5294 - accuracy: 0.8336 - val_loss: 1.0610 - val_accuracy: 0.7003\n",
      "Epoch 61/200\n",
      "44/44 [==============================] - 0s 2ms/step - loss: 0.5169 - accuracy: 0.8371 - val_loss: 1.0518 - val_accuracy: 0.7028\n",
      "Epoch 62/200\n",
      "44/44 [==============================] - 0s 2ms/step - loss: 0.5053 - accuracy: 0.8407 - val_loss: 1.0422 - val_accuracy: 0.7078\n",
      "Epoch 63/200\n",
      "44/44 [==============================] - 0s 2ms/step - loss: 0.4944 - accuracy: 0.8443 - val_loss: 1.0334 - val_accuracy: 0.7103\n",
      "Epoch 64/200\n",
      "44/44 [==============================] - 0s 2ms/step - loss: 0.4839 - accuracy: 0.8479 - val_loss: 1.0247 - val_accuracy: 0.7103\n",
      "Epoch 65/200\n",
      "44/44 [==============================] - 0s 2ms/step - loss: 0.4738 - accuracy: 0.8557 - val_loss: 1.0220 - val_accuracy: 0.7154\n",
      "Epoch 66/200\n",
      "44/44 [==============================] - 0s 2ms/step - loss: 0.4638 - accuracy: 0.8579 - val_loss: 1.0124 - val_accuracy: 0.7204\n",
      "Epoch 67/200\n",
      "44/44 [==============================] - 0s 2ms/step - loss: 0.4541 - accuracy: 0.8636 - val_loss: 1.0072 - val_accuracy: 0.7229\n",
      "Epoch 68/200\n",
      "44/44 [==============================] - 0s 2ms/step - loss: 0.4435 - accuracy: 0.8657 - val_loss: 0.9986 - val_accuracy: 0.7229\n",
      "Epoch 69/200\n",
      "44/44 [==============================] - 0s 2ms/step - loss: 0.4334 - accuracy: 0.8679 - val_loss: 0.9929 - val_accuracy: 0.7305\n",
      "Epoch 70/200\n",
      "44/44 [==============================] - 0s 2ms/step - loss: 0.4240 - accuracy: 0.8714 - val_loss: 0.9818 - val_accuracy: 0.7330\n",
      "Epoch 71/200\n",
      "44/44 [==============================] - 0s 2ms/step - loss: 0.4144 - accuracy: 0.8729 - val_loss: 0.9769 - val_accuracy: 0.7330\n",
      "Epoch 72/200\n",
      "44/44 [==============================] - 0s 2ms/step - loss: 0.4060 - accuracy: 0.8729 - val_loss: 0.9737 - val_accuracy: 0.7431\n",
      "Epoch 73/200\n",
      "44/44 [==============================] - 0s 2ms/step - loss: 0.3967 - accuracy: 0.8764 - val_loss: 0.9675 - val_accuracy: 0.7431\n",
      "Epoch 74/200\n",
      "44/44 [==============================] - 0s 2ms/step - loss: 0.3890 - accuracy: 0.8750 - val_loss: 0.9623 - val_accuracy: 0.7406\n",
      "Epoch 75/200\n",
      "44/44 [==============================] - 0s 2ms/step - loss: 0.3798 - accuracy: 0.8836 - val_loss: 0.9558 - val_accuracy: 0.7506\n",
      "Epoch 76/200\n",
      "44/44 [==============================] - 0s 2ms/step - loss: 0.3720 - accuracy: 0.8836 - val_loss: 0.9531 - val_accuracy: 0.7506\n",
      "Epoch 77/200\n",
      "44/44 [==============================] - 0s 2ms/step - loss: 0.3651 - accuracy: 0.8893 - val_loss: 0.9452 - val_accuracy: 0.7582\n",
      "Epoch 78/200\n",
      "44/44 [==============================] - 0s 2ms/step - loss: 0.3576 - accuracy: 0.8864 - val_loss: 0.9455 - val_accuracy: 0.7531\n",
      "Epoch 79/200\n",
      "44/44 [==============================] - 0s 2ms/step - loss: 0.3500 - accuracy: 0.8907 - val_loss: 0.9408 - val_accuracy: 0.7607\n",
      "Epoch 80/200\n",
      "44/44 [==============================] - 0s 2ms/step - loss: 0.3430 - accuracy: 0.8900 - val_loss: 0.9361 - val_accuracy: 0.7632\n",
      "Epoch 81/200\n",
      "44/44 [==============================] - 0s 2ms/step - loss: 0.3359 - accuracy: 0.8936 - val_loss: 0.9306 - val_accuracy: 0.7632\n",
      "Epoch 82/200\n",
      "44/44 [==============================] - 0s 2ms/step - loss: 0.3291 - accuracy: 0.8979 - val_loss: 0.9257 - val_accuracy: 0.7657\n",
      "Epoch 83/200\n",
      "44/44 [==============================] - 0s 2ms/step - loss: 0.3234 - accuracy: 0.8986 - val_loss: 0.9211 - val_accuracy: 0.7657\n",
      "Epoch 84/200\n",
      "44/44 [==============================] - 0s 2ms/step - loss: 0.3167 - accuracy: 0.8993 - val_loss: 0.9181 - val_accuracy: 0.7632\n",
      "Epoch 85/200\n",
      "44/44 [==============================] - 0s 2ms/step - loss: 0.3110 - accuracy: 0.9036 - val_loss: 0.9111 - val_accuracy: 0.7632\n",
      "Epoch 86/200\n",
      "44/44 [==============================] - 0s 2ms/step - loss: 0.3046 - accuracy: 0.9057 - val_loss: 0.9088 - val_accuracy: 0.7632\n",
      "Epoch 87/200\n",
      "44/44 [==============================] - 0s 2ms/step - loss: 0.2989 - accuracy: 0.9064 - val_loss: 0.9052 - val_accuracy: 0.7632\n",
      "Epoch 88/200\n",
      "44/44 [==============================] - 0s 3ms/step - loss: 0.2931 - accuracy: 0.9079 - val_loss: 0.8984 - val_accuracy: 0.7708\n",
      "Epoch 89/200\n",
      "44/44 [==============================] - 0s 3ms/step - loss: 0.2876 - accuracy: 0.9086 - val_loss: 0.8961 - val_accuracy: 0.7683\n",
      "Epoch 90/200\n",
      "44/44 [==============================] - 0s 2ms/step - loss: 0.2816 - accuracy: 0.9107 - val_loss: 0.8880 - val_accuracy: 0.7708\n",
      "Epoch 91/200\n",
      "44/44 [==============================] - 0s 2ms/step - loss: 0.2763 - accuracy: 0.9121 - val_loss: 0.8850 - val_accuracy: 0.7683\n",
      "Epoch 92/200\n",
      "44/44 [==============================] - 0s 2ms/step - loss: 0.2711 - accuracy: 0.9136 - val_loss: 0.8827 - val_accuracy: 0.7708\n",
      "Epoch 93/200\n",
      "44/44 [==============================] - 0s 2ms/step - loss: 0.2656 - accuracy: 0.9150 - val_loss: 0.8726 - val_accuracy: 0.7708\n",
      "Epoch 94/200\n",
      "44/44 [==============================] - 0s 2ms/step - loss: 0.2615 - accuracy: 0.9179 - val_loss: 0.8695 - val_accuracy: 0.7708\n",
      "Epoch 95/200\n",
      "44/44 [==============================] - 0s 2ms/step - loss: 0.2556 - accuracy: 0.9171 - val_loss: 0.8628 - val_accuracy: 0.7733\n",
      "Epoch 96/200\n",
      "44/44 [==============================] - 0s 2ms/step - loss: 0.2509 - accuracy: 0.9186 - val_loss: 0.8614 - val_accuracy: 0.7758\n",
      "Epoch 97/200\n",
      "44/44 [==============================] - 0s 2ms/step - loss: 0.2465 - accuracy: 0.9214 - val_loss: 0.8575 - val_accuracy: 0.7758\n",
      "Epoch 98/200\n",
      "44/44 [==============================] - 0s 2ms/step - loss: 0.2421 - accuracy: 0.9229 - val_loss: 0.8516 - val_accuracy: 0.7758\n",
      "Epoch 99/200\n",
      "44/44 [==============================] - 0s 2ms/step - loss: 0.2373 - accuracy: 0.9264 - val_loss: 0.8445 - val_accuracy: 0.7758\n",
      "Epoch 100/200\n",
      "44/44 [==============================] - 0s 2ms/step - loss: 0.2334 - accuracy: 0.9243 - val_loss: 0.8393 - val_accuracy: 0.7783\n",
      "Epoch 101/200\n",
      "44/44 [==============================] - 0s 2ms/step - loss: 0.2292 - accuracy: 0.9279 - val_loss: 0.8332 - val_accuracy: 0.7834\n",
      "Epoch 102/200\n",
      "44/44 [==============================] - 0s 2ms/step - loss: 0.2250 - accuracy: 0.9300 - val_loss: 0.8312 - val_accuracy: 0.7834\n",
      "Epoch 103/200\n",
      "44/44 [==============================] - 0s 2ms/step - loss: 0.2204 - accuracy: 0.9307 - val_loss: 0.8269 - val_accuracy: 0.7859\n",
      "Epoch 104/200\n",
      "44/44 [==============================] - 0s 2ms/step - loss: 0.2166 - accuracy: 0.9300 - val_loss: 0.8204 - val_accuracy: 0.7935\n",
      "Epoch 105/200\n",
      "44/44 [==============================] - 0s 2ms/step - loss: 0.2122 - accuracy: 0.9329 - val_loss: 0.8154 - val_accuracy: 0.7884\n",
      "Epoch 106/200\n",
      "44/44 [==============================] - 0s 2ms/step - loss: 0.2085 - accuracy: 0.9336 - val_loss: 0.8101 - val_accuracy: 0.7935\n",
      "Epoch 107/200\n",
      "44/44 [==============================] - 0s 2ms/step - loss: 0.2050 - accuracy: 0.9350 - val_loss: 0.8053 - val_accuracy: 0.7935\n",
      "Epoch 108/200\n",
      "44/44 [==============================] - 0s 2ms/step - loss: 0.2011 - accuracy: 0.9371 - val_loss: 0.7987 - val_accuracy: 0.7985\n",
      "Epoch 109/200\n",
      "44/44 [==============================] - 0s 2ms/step - loss: 0.1974 - accuracy: 0.9379 - val_loss: 0.7982 - val_accuracy: 0.7960\n",
      "Epoch 110/200\n",
      "44/44 [==============================] - 0s 2ms/step - loss: 0.1933 - accuracy: 0.9400 - val_loss: 0.7883 - val_accuracy: 0.7960\n",
      "Epoch 111/200\n",
      "44/44 [==============================] - 0s 2ms/step - loss: 0.1899 - accuracy: 0.9421 - val_loss: 0.7838 - val_accuracy: 0.8010\n",
      "Epoch 112/200\n",
      "44/44 [==============================] - 0s 2ms/step - loss: 0.1867 - accuracy: 0.9421 - val_loss: 0.7778 - val_accuracy: 0.8010\n",
      "Epoch 113/200\n",
      "44/44 [==============================] - 0s 2ms/step - loss: 0.1828 - accuracy: 0.9421 - val_loss: 0.7747 - val_accuracy: 0.8010\n",
      "Epoch 114/200\n",
      "44/44 [==============================] - 0s 2ms/step - loss: 0.1804 - accuracy: 0.9443 - val_loss: 0.7723 - val_accuracy: 0.8010\n",
      "Epoch 115/200\n",
      "44/44 [==============================] - 0s 2ms/step - loss: 0.1777 - accuracy: 0.9443 - val_loss: 0.7678 - val_accuracy: 0.8060\n",
      "Epoch 116/200\n"
     ]
    },
    {
     "name": "stdout",
     "output_type": "stream",
     "text": [
      "44/44 [==============================] - 0s 2ms/step - loss: 0.1738 - accuracy: 0.9450 - val_loss: 0.7601 - val_accuracy: 0.8111\n",
      "Epoch 117/200\n",
      "44/44 [==============================] - 0s 2ms/step - loss: 0.1708 - accuracy: 0.9471 - val_loss: 0.7596 - val_accuracy: 0.8010\n",
      "Epoch 118/200\n",
      "44/44 [==============================] - 0s 2ms/step - loss: 0.1683 - accuracy: 0.9457 - val_loss: 0.7510 - val_accuracy: 0.8111\n",
      "Epoch 119/200\n",
      "44/44 [==============================] - 0s 2ms/step - loss: 0.1651 - accuracy: 0.9479 - val_loss: 0.7461 - val_accuracy: 0.8136\n",
      "Epoch 120/200\n",
      "44/44 [==============================] - 0s 2ms/step - loss: 0.1625 - accuracy: 0.9471 - val_loss: 0.7426 - val_accuracy: 0.8136\n",
      "Epoch 121/200\n",
      "44/44 [==============================] - 0s 2ms/step - loss: 0.1598 - accuracy: 0.9493 - val_loss: 0.7400 - val_accuracy: 0.8161\n",
      "Epoch 122/200\n",
      "44/44 [==============================] - 0s 2ms/step - loss: 0.1571 - accuracy: 0.9507 - val_loss: 0.7367 - val_accuracy: 0.8161\n",
      "Epoch 123/200\n",
      "44/44 [==============================] - 0s 2ms/step - loss: 0.1544 - accuracy: 0.9507 - val_loss: 0.7334 - val_accuracy: 0.8136\n",
      "Epoch 124/200\n",
      "44/44 [==============================] - 0s 2ms/step - loss: 0.1526 - accuracy: 0.9521 - val_loss: 0.7322 - val_accuracy: 0.8086\n",
      "Epoch 125/200\n",
      "44/44 [==============================] - 0s 2ms/step - loss: 0.1493 - accuracy: 0.9536 - val_loss: 0.7257 - val_accuracy: 0.8111\n",
      "Epoch 126/200\n",
      "44/44 [==============================] - 0s 2ms/step - loss: 0.1475 - accuracy: 0.9514 - val_loss: 0.7231 - val_accuracy: 0.8136\n",
      "Epoch 127/200\n",
      "44/44 [==============================] - 0s 2ms/step - loss: 0.1447 - accuracy: 0.9557 - val_loss: 0.7196 - val_accuracy: 0.8111\n",
      "Epoch 128/200\n",
      "44/44 [==============================] - 0s 2ms/step - loss: 0.1426 - accuracy: 0.9557 - val_loss: 0.7176 - val_accuracy: 0.8136\n",
      "Epoch 129/200\n",
      "44/44 [==============================] - 0s 2ms/step - loss: 0.1399 - accuracy: 0.9557 - val_loss: 0.7132 - val_accuracy: 0.8136\n",
      "Epoch 130/200\n",
      "44/44 [==============================] - 0s 2ms/step - loss: 0.1376 - accuracy: 0.9614 - val_loss: 0.7111 - val_accuracy: 0.8111\n",
      "Epoch 131/200\n",
      "44/44 [==============================] - 0s 2ms/step - loss: 0.1354 - accuracy: 0.9600 - val_loss: 0.7073 - val_accuracy: 0.8161\n",
      "Epoch 132/200\n",
      "44/44 [==============================] - 0s 2ms/step - loss: 0.1332 - accuracy: 0.9621 - val_loss: 0.7030 - val_accuracy: 0.8136\n",
      "Epoch 133/200\n",
      "44/44 [==============================] - 0s 2ms/step - loss: 0.1308 - accuracy: 0.9629 - val_loss: 0.7009 - val_accuracy: 0.8111\n",
      "Epoch 134/200\n",
      "44/44 [==============================] - 0s 2ms/step - loss: 0.1288 - accuracy: 0.9629 - val_loss: 0.6935 - val_accuracy: 0.8161\n",
      "Epoch 135/200\n",
      "44/44 [==============================] - 0s 2ms/step - loss: 0.1266 - accuracy: 0.9621 - val_loss: 0.6935 - val_accuracy: 0.8237\n",
      "Epoch 136/200\n",
      "44/44 [==============================] - 0s 2ms/step - loss: 0.1247 - accuracy: 0.9664 - val_loss: 0.6913 - val_accuracy: 0.8186\n",
      "Epoch 137/200\n",
      "44/44 [==============================] - 0s 2ms/step - loss: 0.1227 - accuracy: 0.9650 - val_loss: 0.6901 - val_accuracy: 0.8186\n",
      "Epoch 138/200\n",
      "44/44 [==============================] - 0s 2ms/step - loss: 0.1203 - accuracy: 0.9679 - val_loss: 0.6854 - val_accuracy: 0.8212\n",
      "Epoch 139/200\n",
      "44/44 [==============================] - 0s 2ms/step - loss: 0.1191 - accuracy: 0.9657 - val_loss: 0.6832 - val_accuracy: 0.8262\n",
      "Epoch 140/200\n",
      "44/44 [==============================] - 0s 2ms/step - loss: 0.1165 - accuracy: 0.9679 - val_loss: 0.6808 - val_accuracy: 0.8212\n",
      "Epoch 141/200\n",
      "44/44 [==============================] - 0s 2ms/step - loss: 0.1142 - accuracy: 0.9664 - val_loss: 0.6788 - val_accuracy: 0.8186\n",
      "Epoch 142/200\n",
      "44/44 [==============================] - 0s 2ms/step - loss: 0.1122 - accuracy: 0.9693 - val_loss: 0.6760 - val_accuracy: 0.8212\n",
      "Epoch 143/200\n",
      "44/44 [==============================] - 0s 2ms/step - loss: 0.1106 - accuracy: 0.9686 - val_loss: 0.6737 - val_accuracy: 0.8186\n",
      "Epoch 144/200\n",
      "44/44 [==============================] - 0s 2ms/step - loss: 0.1091 - accuracy: 0.9700 - val_loss: 0.6716 - val_accuracy: 0.8186\n",
      "Epoch 145/200\n",
      "44/44 [==============================] - 0s 2ms/step - loss: 0.1072 - accuracy: 0.9714 - val_loss: 0.6678 - val_accuracy: 0.8186\n",
      "Epoch 146/200\n",
      "44/44 [==============================] - 0s 2ms/step - loss: 0.1056 - accuracy: 0.9707 - val_loss: 0.6689 - val_accuracy: 0.8212\n",
      "Epoch 147/200\n",
      "44/44 [==============================] - 0s 2ms/step - loss: 0.1039 - accuracy: 0.9714 - val_loss: 0.6648 - val_accuracy: 0.8237\n",
      "Epoch 148/200\n",
      "44/44 [==============================] - 0s 2ms/step - loss: 0.1022 - accuracy: 0.9714 - val_loss: 0.6626 - val_accuracy: 0.8287\n",
      "Epoch 149/200\n",
      "44/44 [==============================] - 0s 2ms/step - loss: 0.1006 - accuracy: 0.9721 - val_loss: 0.6586 - val_accuracy: 0.8262\n",
      "Epoch 150/200\n",
      "44/44 [==============================] - 0s 2ms/step - loss: 0.0992 - accuracy: 0.9743 - val_loss: 0.6580 - val_accuracy: 0.8287\n",
      "Epoch 151/200\n",
      "44/44 [==============================] - 0s 3ms/step - loss: 0.0972 - accuracy: 0.9729 - val_loss: 0.6542 - val_accuracy: 0.8338\n",
      "Epoch 152/200\n",
      "44/44 [==============================] - 0s 2ms/step - loss: 0.0959 - accuracy: 0.9729 - val_loss: 0.6537 - val_accuracy: 0.8287\n",
      "Epoch 153/200\n",
      "44/44 [==============================] - 0s 2ms/step - loss: 0.0944 - accuracy: 0.9764 - val_loss: 0.6525 - val_accuracy: 0.8413\n",
      "Epoch 154/200\n",
      "44/44 [==============================] - 0s 2ms/step - loss: 0.0931 - accuracy: 0.9764 - val_loss: 0.6488 - val_accuracy: 0.8312\n",
      "Epoch 155/200\n",
      "44/44 [==============================] - 0s 2ms/step - loss: 0.0916 - accuracy: 0.9771 - val_loss: 0.6472 - val_accuracy: 0.8287\n",
      "Epoch 156/200\n",
      "44/44 [==============================] - 0s 2ms/step - loss: 0.0900 - accuracy: 0.9764 - val_loss: 0.6435 - val_accuracy: 0.8338\n",
      "Epoch 157/200\n",
      "44/44 [==============================] - 0s 2ms/step - loss: 0.0892 - accuracy: 0.9771 - val_loss: 0.6423 - val_accuracy: 0.8388\n",
      "Epoch 158/200\n",
      "44/44 [==============================] - 0s 2ms/step - loss: 0.0876 - accuracy: 0.9779 - val_loss: 0.6382 - val_accuracy: 0.8413\n",
      "Epoch 159/200\n",
      "44/44 [==============================] - 0s 2ms/step - loss: 0.0864 - accuracy: 0.9779 - val_loss: 0.6360 - val_accuracy: 0.8363\n",
      "Epoch 160/200\n",
      "44/44 [==============================] - 0s 2ms/step - loss: 0.0853 - accuracy: 0.9800 - val_loss: 0.6353 - val_accuracy: 0.8388\n",
      "Epoch 161/200\n",
      "44/44 [==============================] - 0s 2ms/step - loss: 0.0839 - accuracy: 0.9800 - val_loss: 0.6311 - val_accuracy: 0.8363\n",
      "Epoch 162/200\n",
      "44/44 [==============================] - 0s 2ms/step - loss: 0.0825 - accuracy: 0.9807 - val_loss: 0.6324 - val_accuracy: 0.8413\n",
      "Epoch 163/200\n",
      "44/44 [==============================] - 0s 2ms/step - loss: 0.0810 - accuracy: 0.9800 - val_loss: 0.6278 - val_accuracy: 0.8413\n",
      "Epoch 164/200\n",
      "44/44 [==============================] - 0s 2ms/step - loss: 0.0807 - accuracy: 0.9807 - val_loss: 0.6285 - val_accuracy: 0.8413\n",
      "Epoch 165/200\n",
      "44/44 [==============================] - 0s 2ms/step - loss: 0.0789 - accuracy: 0.9814 - val_loss: 0.6245 - val_accuracy: 0.8438\n",
      "Epoch 166/200\n",
      "44/44 [==============================] - 0s 2ms/step - loss: 0.0779 - accuracy: 0.9807 - val_loss: 0.6221 - val_accuracy: 0.8489\n",
      "Epoch 167/200\n",
      "44/44 [==============================] - 0s 2ms/step - loss: 0.0768 - accuracy: 0.9800 - val_loss: 0.6190 - val_accuracy: 0.8489\n",
      "Epoch 168/200\n",
      "44/44 [==============================] - 0s 2ms/step - loss: 0.0759 - accuracy: 0.9821 - val_loss: 0.6179 - val_accuracy: 0.8489\n",
      "Epoch 169/200\n",
      "44/44 [==============================] - 0s 2ms/step - loss: 0.0750 - accuracy: 0.9814 - val_loss: 0.6171 - val_accuracy: 0.8463\n",
      "Epoch 170/200\n",
      "44/44 [==============================] - 0s 2ms/step - loss: 0.0737 - accuracy: 0.9821 - val_loss: 0.6142 - val_accuracy: 0.8489\n",
      "Epoch 171/200\n",
      "44/44 [==============================] - 0s 2ms/step - loss: 0.0727 - accuracy: 0.9821 - val_loss: 0.6151 - val_accuracy: 0.8463\n",
      "Epoch 172/200\n",
      "44/44 [==============================] - 0s 2ms/step - loss: 0.0714 - accuracy: 0.9843 - val_loss: 0.6118 - val_accuracy: 0.8489\n",
      "Epoch 173/200\n"
     ]
    },
    {
     "name": "stdout",
     "output_type": "stream",
     "text": [
      "44/44 [==============================] - 0s 2ms/step - loss: 0.0706 - accuracy: 0.9836 - val_loss: 0.6123 - val_accuracy: 0.8463\n",
      "Epoch 174/200\n",
      "44/44 [==============================] - 0s 2ms/step - loss: 0.0696 - accuracy: 0.9843 - val_loss: 0.6078 - val_accuracy: 0.8489\n",
      "Epoch 175/200\n",
      "44/44 [==============================] - 0s 2ms/step - loss: 0.0683 - accuracy: 0.9850 - val_loss: 0.6078 - val_accuracy: 0.8463\n",
      "Epoch 176/200\n",
      "44/44 [==============================] - 0s 2ms/step - loss: 0.0672 - accuracy: 0.9843 - val_loss: 0.6061 - val_accuracy: 0.8489\n",
      "Epoch 177/200\n",
      "44/44 [==============================] - 0s 2ms/step - loss: 0.0667 - accuracy: 0.9850 - val_loss: 0.6019 - val_accuracy: 0.8489\n",
      "Epoch 178/200\n",
      "44/44 [==============================] - 0s 2ms/step - loss: 0.0661 - accuracy: 0.9843 - val_loss: 0.6032 - val_accuracy: 0.8463\n",
      "Epoch 179/200\n",
      "44/44 [==============================] - 0s 2ms/step - loss: 0.0649 - accuracy: 0.9850 - val_loss: 0.6027 - val_accuracy: 0.8489\n",
      "Epoch 180/200\n",
      "44/44 [==============================] - 0s 2ms/step - loss: 0.0640 - accuracy: 0.9843 - val_loss: 0.5985 - val_accuracy: 0.8489\n",
      "Epoch 181/200\n",
      "44/44 [==============================] - 0s 2ms/step - loss: 0.0628 - accuracy: 0.9850 - val_loss: 0.5998 - val_accuracy: 0.8489\n",
      "Epoch 182/200\n",
      "44/44 [==============================] - 0s 2ms/step - loss: 0.0620 - accuracy: 0.9857 - val_loss: 0.5953 - val_accuracy: 0.8489\n",
      "Epoch 183/200\n",
      "44/44 [==============================] - 0s 2ms/step - loss: 0.0615 - accuracy: 0.9864 - val_loss: 0.5969 - val_accuracy: 0.8463\n",
      "Epoch 184/200\n",
      "44/44 [==============================] - 0s 2ms/step - loss: 0.0606 - accuracy: 0.9857 - val_loss: 0.5955 - val_accuracy: 0.8489\n",
      "Epoch 185/200\n",
      "44/44 [==============================] - 0s 2ms/step - loss: 0.0598 - accuracy: 0.9879 - val_loss: 0.5925 - val_accuracy: 0.8463\n",
      "Epoch 186/200\n",
      "44/44 [==============================] - 0s 2ms/step - loss: 0.0590 - accuracy: 0.9857 - val_loss: 0.5953 - val_accuracy: 0.8489\n",
      "Epoch 187/200\n",
      "44/44 [==============================] - 0s 2ms/step - loss: 0.0582 - accuracy: 0.9850 - val_loss: 0.5925 - val_accuracy: 0.8514\n",
      "Epoch 188/200\n",
      "44/44 [==============================] - 0s 2ms/step - loss: 0.0574 - accuracy: 0.9879 - val_loss: 0.5934 - val_accuracy: 0.8489\n",
      "Epoch 189/200\n",
      "44/44 [==============================] - 0s 2ms/step - loss: 0.0562 - accuracy: 0.9871 - val_loss: 0.5909 - val_accuracy: 0.8489\n",
      "Epoch 190/200\n",
      "44/44 [==============================] - 0s 2ms/step - loss: 0.0557 - accuracy: 0.9879 - val_loss: 0.5912 - val_accuracy: 0.8463\n",
      "Epoch 191/200\n",
      "44/44 [==============================] - 0s 2ms/step - loss: 0.0548 - accuracy: 0.9879 - val_loss: 0.5906 - val_accuracy: 0.8489\n",
      "Epoch 192/200\n",
      "44/44 [==============================] - 0s 2ms/step - loss: 0.0542 - accuracy: 0.9879 - val_loss: 0.5892 - val_accuracy: 0.8463\n",
      "Epoch 193/200\n",
      "44/44 [==============================] - 0s 2ms/step - loss: 0.0532 - accuracy: 0.9900 - val_loss: 0.5893 - val_accuracy: 0.8489\n",
      "Epoch 194/200\n",
      "44/44 [==============================] - 0s 2ms/step - loss: 0.0529 - accuracy: 0.9914 - val_loss: 0.5892 - val_accuracy: 0.8388\n",
      "Epoch 195/200\n",
      "44/44 [==============================] - 0s 2ms/step - loss: 0.0520 - accuracy: 0.9900 - val_loss: 0.5868 - val_accuracy: 0.8489\n",
      "Epoch 196/200\n",
      "44/44 [==============================] - 0s 2ms/step - loss: 0.0508 - accuracy: 0.9921 - val_loss: 0.5865 - val_accuracy: 0.8463\n",
      "Epoch 197/200\n",
      "44/44 [==============================] - 0s 2ms/step - loss: 0.0504 - accuracy: 0.9914 - val_loss: 0.5870 - val_accuracy: 0.8463\n",
      "Epoch 198/200\n",
      "44/44 [==============================] - 0s 2ms/step - loss: 0.0497 - accuracy: 0.9914 - val_loss: 0.5865 - val_accuracy: 0.8463\n",
      "Epoch 199/200\n",
      "44/44 [==============================] - 0s 2ms/step - loss: 0.0488 - accuracy: 0.9921 - val_loss: 0.5864 - val_accuracy: 0.8463\n",
      "Epoch 200/200\n",
      "44/44 [==============================] - 0s 2ms/step - loss: 0.0482 - accuracy: 0.9921 - val_loss: 0.5853 - val_accuracy: 0.8463\n"
     ]
    }
   ],
   "source": [
    "model_final=tf.keras.Sequential([\n",
    "    tf.keras.layers.Flatten(input_shape=(8,8)),\n",
    "    tf.keras.layers.Dense(16,activation=\"relu\"),\n",
    "    tf.keras.layers.Dense(16,activation=\"relu\"),\n",
    "    tf.keras.layers.Dense(10,activation=\"softmax\"),\n",
    "])\n",
    "\n",
    "model_final.compile(\n",
    "loss=tf.keras.losses.SparseCategoricalCrossentropy(),\n",
    "optimizer=tf.keras.optimizers.Adam(lr=0.0001),\n",
    "metrics=[\"accuracy\"])\n",
    "\n",
    "history=model_final.fit(X_train,y_train,validation_data=(X_test,y_test),epochs=200)"
   ]
  },
  {
   "cell_type": "code",
   "execution_count": 88,
   "id": "a37ea086",
   "metadata": {},
   "outputs": [
    {
     "name": "stdout",
     "output_type": "stream",
     "text": [
      "13/13 [==============================] - 0s 2ms/step - loss: 0.5853 - accuracy: 0.8463\n"
     ]
    },
    {
     "data": {
      "text/plain": [
       "[0.5853018164634705, 0.8463476300239563]"
      ]
     },
     "execution_count": 88,
     "metadata": {},
     "output_type": "execute_result"
    }
   ],
   "source": [
    "model_final.evaluate(X_test,y_test)"
   ]
  },
  {
   "cell_type": "code",
   "execution_count": 89,
   "id": "700228b7",
   "metadata": {},
   "outputs": [],
   "source": [
    "y_pred=model_final.predict(X_test)"
   ]
  },
  {
   "cell_type": "code",
   "execution_count": 91,
   "id": "9bec5461",
   "metadata": {},
   "outputs": [
    {
     "data": {
      "text/plain": [
       "(array([2, 8, 2, 2, 5, 7, 9, 5, 4, 8, 8, 4, 9, 0, 8, 0, 1, 2, 3, 4, 5, 6,\n",
       "        7, 8, 9, 0, 1, 2, 3, 4, 5, 6, 7, 8, 9, 0, 1, 2, 3, 4, 5, 6, 7, 8,\n",
       "        9, 0, 9, 5, 5, 6, 5, 0, 9, 8, 9, 8, 4, 1, 7, 7, 3, 5, 1, 0, 0, 2,\n",
       "        2, 7, 8, 2, 0, 1, 2, 6, 3, 3, 7, 3, 3, 4, 6, 6, 6, 4, 9, 1, 5, 0,\n",
       "        9, 5, 2, 8, 2, 0, 0, 1, 7, 6, 3, 2, 1, 7, 4, 6, 3, 1, 3, 9, 1, 7,\n",
       "        6, 8, 4, 3, 1, 4, 0, 5, 3, 6, 9, 6, 1, 7, 5, 4, 4, 7, 2, 8, 2, 2,\n",
       "        5, 7, 9, 5, 4, 8, 8, 4, 9, 0, 8, 9, 8, 0, 1, 2, 3, 4, 5, 6, 7, 8,\n",
       "        9, 0, 1, 2, 3, 4, 5, 6, 9, 0, 1, 2, 3, 4, 5, 6, 7, 8, 9, 0, 9, 5,\n",
       "        5, 6, 5, 0, 9, 8, 9, 8, 4, 1, 7, 7, 3, 5, 1, 0, 0, 2, 2, 7, 8, 2,\n",
       "        0, 1, 2, 6, 3, 3, 7, 3, 3, 4, 6, 6, 6, 4, 9, 1, 5, 0, 9, 5, 2, 8,\n",
       "        0, 1, 7, 6, 3, 2, 1, 7, 4, 6, 3, 1, 3, 9, 1, 7, 6, 8, 4, 3, 1, 4,\n",
       "        0, 5, 3, 6, 9, 6, 1, 7, 5, 4, 4, 7, 2, 2, 5, 7, 9, 5, 4, 4, 9, 0,\n",
       "        8, 9, 8, 0, 1, 2, 3, 4, 5, 6, 7, 8, 9, 0, 1, 2, 3, 4, 5, 6, 7, 8,\n",
       "        9, 0, 1, 2, 3, 4, 5, 6, 7, 8, 9, 0, 9, 5, 5, 6, 5, 0, 9, 8, 9, 8,\n",
       "        4, 1, 7, 7, 3, 5, 1, 0, 0, 2, 2, 7, 8, 2, 0, 1, 2, 6, 3, 3, 7, 3,\n",
       "        3, 4, 6, 6, 6, 4, 9, 1, 5, 0, 9, 5, 2, 8, 2, 0, 0, 1, 7, 6, 3, 2,\n",
       "        1, 7, 4, 6, 3, 1, 3, 9, 1, 7, 6, 8, 4, 3, 1, 4, 0, 5, 3, 6, 9, 6,\n",
       "        1, 7, 5, 4, 4, 7, 2, 8, 2, 2, 5, 7, 9, 5, 4, 8, 8, 4, 9, 0, 8, 9,\n",
       "        8]),\n",
       " array([[3.4556326e-08, 1.1073681e-06, 9.7483259e-01, ..., 1.4408327e-04,\n",
       "         2.4614903e-07, 2.3551341e-02],\n",
       "        [7.5272160e-06, 1.2660684e-03, 7.1333360e-04, ..., 3.7931932e-06,\n",
       "         9.8116553e-01, 1.2650467e-02],\n",
       "        [4.7122688e-11, 1.9125540e-08, 9.9998319e-01, ..., 2.2024585e-07,\n",
       "         1.3191739e-09, 7.2917396e-06],\n",
       "        ...,\n",
       "        [8.8269479e-07, 2.4498877e-04, 3.5189282e-07, ..., 2.2642448e-09,\n",
       "         9.9957889e-01, 3.5581627e-06],\n",
       "        [2.4062798e-04, 4.4350070e-04, 2.9986402e-05, ..., 7.1604154e-04,\n",
       "         4.5600655e-03, 9.9347889e-01],\n",
       "        [3.4515365e-04, 5.3922751e-04, 7.3037845e-05, ..., 3.0286438e-07,\n",
       "         9.9762768e-01, 1.3543501e-03]], dtype=float32))"
      ]
     },
     "execution_count": 91,
     "metadata": {},
     "output_type": "execute_result"
    }
   ],
   "source": [
    "y_test,y_pred"
   ]
  },
  {
   "cell_type": "code",
   "execution_count": 94,
   "id": "aad71f41",
   "metadata": {},
   "outputs": [],
   "source": [
    "y_pred=tf.argmax(y_pred,axis=1)"
   ]
  },
  {
   "cell_type": "code",
   "execution_count": 95,
   "id": "30070e6e",
   "metadata": {},
   "outputs": [
    {
     "data": {
      "text/plain": [
       "<tf.Tensor: shape=(397,), dtype=int64, numpy=\n",
       "array([2, 8, 2, 2, 5, 7, 9, 5, 4, 8, 8, 4, 5, 0, 8, 0, 1, 2, 3, 4, 5, 6,\n",
       "       7, 8, 9, 0, 1, 2, 3, 4, 5, 6, 7, 8, 3, 0, 1, 2, 3, 4, 5, 6, 7, 9,\n",
       "       9, 0, 9, 5, 5, 6, 5, 0, 9, 8, 3, 8, 4, 1, 7, 4, 3, 5, 9, 0, 0, 2,\n",
       "       2, 7, 9, 2, 0, 9, 2, 6, 3, 3, 7, 3, 3, 4, 6, 6, 6, 4, 9, 9, 5, 0,\n",
       "       3, 5, 2, 7, 2, 0, 0, 9, 7, 6, 3, 2, 9, 7, 4, 6, 3, 1, 3, 9, 1, 7,\n",
       "       6, 8, 4, 3, 9, 4, 0, 5, 3, 6, 3, 6, 3, 7, 5, 4, 4, 7, 2, 5, 2, 2,\n",
       "       5, 7, 9, 5, 4, 8, 8, 4, 3, 0, 8, 3, 8, 0, 1, 2, 3, 4, 5, 1, 9, 1,\n",
       "       9, 0, 1, 2, 3, 4, 5, 4, 7, 0, 1, 2, 3, 4, 5, 4, 9, 5, 7, 4, 9, 5,\n",
       "       5, 6, 5, 0, 8, 6, 9, 8, 4, 1, 7, 7, 3, 5, 1, 6, 0, 2, 2, 7, 8, 2,\n",
       "       0, 1, 2, 6, 9, 7, 7, 7, 8, 4, 6, 4, 6, 1, 9, 1, 5, 6, 9, 5, 2, 8,\n",
       "       0, 1, 7, 6, 3, 2, 1, 7, 1, 6, 3, 1, 3, 1, 1, 7, 6, 8, 4, 3, 1, 4,\n",
       "       0, 5, 3, 4, 3, 6, 1, 7, 5, 4, 4, 7, 2, 2, 5, 7, 3, 5, 8, 4, 5, 0,\n",
       "       1, 1, 8, 0, 1, 2, 3, 4, 5, 6, 7, 8, 9, 0, 1, 2, 8, 4, 5, 6, 7, 8,\n",
       "       9, 0, 1, 2, 5, 4, 5, 6, 7, 8, 9, 0, 9, 5, 5, 6, 5, 0, 9, 8, 9, 8,\n",
       "       4, 1, 7, 7, 9, 5, 1, 0, 0, 2, 2, 7, 8, 2, 0, 1, 2, 6, 8, 7, 2, 5,\n",
       "       8, 4, 6, 6, 6, 4, 9, 1, 5, 0, 9, 0, 3, 8, 2, 0, 0, 1, 4, 6, 3, 2,\n",
       "       1, 4, 4, 6, 3, 1, 3, 9, 1, 7, 6, 8, 4, 5, 1, 4, 0, 5, 3, 6, 9, 6,\n",
       "       1, 7, 5, 4, 4, 7, 2, 8, 2, 2, 5, 7, 9, 5, 4, 8, 8, 4, 9, 0, 8, 9,\n",
       "       8], dtype=int64)>"
      ]
     },
     "execution_count": 95,
     "metadata": {},
     "output_type": "execute_result"
    }
   ],
   "source": [
    "y_pred"
   ]
  },
  {
   "cell_type": "code",
   "execution_count": 97,
   "id": "bbadec63",
   "metadata": {},
   "outputs": [],
   "source": [
    "from sklearn.metrics import classification_report,confusion_matrix\n",
    "import seaborn as sns"
   ]
  },
  {
   "cell_type": "code",
   "execution_count": 101,
   "id": "874400ec",
   "metadata": {},
   "outputs": [
    {
     "data": {
      "text/plain": [
       "Text(69.0, 0.5, 'real values')"
      ]
     },
     "execution_count": 101,
     "metadata": {},
     "output_type": "execute_result"
    },
    {
     "data": {
      "image/png": "[encoded data removed]",
      "text/plain": [
       "<Figure size 720x504 with 2 Axes>"
      ]
     },
     "metadata": {
      "needs_background": "light"
     },
     "output_type": "display_data"
    }
   ],
   "source": [
    "plt.figure(figsize=(10,7))\n",
    "sns.heatmap(confusion_matrix(y_test,y_pred),cmap=\"rocket_r\",fmt=\"d\",annot=True)\n",
    "plt.xlabel(\"predictions\")\n",
    "plt.ylabel(\"real values\")"
   ]
  },
  {
   "cell_type": "code",
   "execution_count": 102,
   "id": "c9962c2a",
   "metadata": {},
   "outputs": [
    {
     "name": "stdout",
     "output_type": "stream",
     "text": [
      "              precision    recall  f1-score   support\n",
      "\n",
      "           0       0.97      0.92      0.95        39\n",
      "           1       0.82      0.82      0.82        39\n",
      "           2       0.97      0.97      0.97        40\n",
      "           3       0.73      0.69      0.71        39\n",
      "           4       0.83      0.93      0.87        41\n",
      "           5       0.85      0.98      0.91        41\n",
      "           6       0.92      0.87      0.89        39\n",
      "           7       0.85      0.85      0.85        39\n",
      "           8       0.84      0.79      0.82        39\n",
      "           9       0.68      0.63      0.66        41\n",
      "\n",
      "    accuracy                           0.85       397\n",
      "   macro avg       0.85      0.85      0.85       397\n",
      "weighted avg       0.85      0.85      0.84       397\n",
      "\n"
     ]
    }
   ],
   "source": [
    "print(classification_report(y_test,y_pred))"
   ]
  },
  {
   "cell_type": "code",
   "execution_count": 137,
   "id": "484f0d15",
   "metadata": {},
   "outputs": [],
   "source": [
    "import random\n",
    "\n",
    "def prediction():\n",
    "    index=random.choice(range(len(y_test)))\n",
    "    plt.figure(figsize=(10,7))\n",
    "    plt.title(f\"Actual_value:{(y_test[index])}|Prediction_from_model:{y_pred[index].numpy()}\")\n",
    "    plt.imshow(digits.images[index],cmap=\"gray\")\n",
    "    "
   ]
  },
  {
   "cell_type": "code",
   "execution_count": 141,
   "id": "d55fb570",
   "metadata": {},
   "outputs": [
    {
     "data": {
      "image/png": "[encoded data removed]",
      "text/plain": [
       "<Figure size 720x504 with 1 Axes>"
      ]
     },
     "metadata": {
      "needs_background": "light"
     },
     "output_type": "display_data"
    }
   ],
   "source": [
    "prediction()"
   ]
  },
  {
   "cell_type": "code",
   "execution_count": null,
   "id": "507ff8ec",
   "metadata": {},
   "outputs": [],
   "source": []
  }
 ],
 "metadata": {
  "kernelspec": {
   "display_name": "Python 3 (ipykernel)",
   "language": "python",
   "name": "python3"
  },
  "language_info": {
   "codemirror_mode": {
    "name": "ipython",
    "version": 3
   },
   "file_extension": ".py",
   "mimetype": "text/x-python",
   "name": "python",
   "nbconvert_exporter": "python",
   "pygments_lexer": "ipython3",
   "version": "3.9.7"
  }
 },
 "nbformat": 4,
 "nbformat_minor": 5
}
